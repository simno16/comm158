{
  "nbformat": 4,
  "nbformat_minor": 0,
  "metadata": {
    "colab": {
      "provenance": []
    },
    "kernelspec": {
      "name": "python3",
      "display_name": "Python 3"
    },
    "language_info": {
      "name": "python"
    }
  },
  "cells": [
    {
      "cell_type": "markdown",
      "source": [
        "# using a list of a list to represent structured data."
      ],
      "metadata": {
        "id": "R6BCcywKuCbX"
      }
    },
    {
      "cell_type": "code",
      "source": [
        "allRawScores = [\n",
        "  [42, 71, 39],\n",
        "  [5, 73, 89],\n",
        "  [28, 11, 64],\n",
        "  [29, 69, 3],\n",
        "  [33, 88, 9],\n",
        "  [100, 73, 45],\n",
        "  [43, 17, 26],\n",
        "  [84, 56, 70],\n",
        "  [63, 14, 11],\n",
        "  [94, 12, 35]]\n",
        "\n"
      ],
      "metadata": {
        "id": "0dNg6xLL4lkK"
      },
      "execution_count": null,
      "outputs": []
    },
    {
      "cell_type": "markdown",
      "source": [
        "# Get the averaged score of each student with `for-loop`"
      ],
      "metadata": {
        "id": "g-pX-RsoULAg"
      }
    },
    {
      "cell_type": "code",
      "source": [
        "courseScores=[]\n",
        "for rawScore in allRawScores:\n",
        "  total=sum(rawScore)\n",
        "  average=total/len(rawScore)\n",
        "  courseScores.append(average)\n",
        "courseScores"
      ],
      "metadata": {
        "id": "V15R1Bj2u-RL",
        "colab": {
          "base_uri": "https://localhost:8080/"
        },
        "outputId": "baa1bf03-624c-4528-a026-e81c2b411d8f"
      },
      "execution_count": null,
      "outputs": [
        {
          "output_type": "execute_result",
          "data": {
            "text/plain": [
              "[50.666666666666664,\n",
              " 55.666666666666664,\n",
              " 34.333333333333336,\n",
              " 33.666666666666664,\n",
              " 43.333333333333336,\n",
              " 72.66666666666667,\n",
              " 28.666666666666668,\n",
              " 70.0,\n",
              " 29.333333333333332,\n",
              " 47.0]"
            ]
          },
          "metadata": {},
          "execution_count": 4
        }
      ]
    },
    {
      "cell_type": "markdown",
      "source": [
        "# getting average score with list-comprehension"
      ],
      "metadata": {
        "id": "d9SyPVvcgwP7"
      }
    },
    {
      "cell_type": "code",
      "source": [
        "def getAverageScore(oneRawScore):\n",
        "  total=sum(courseScores)\n",
        "  oneAverageScore=total/len(courseScores)\n",
        "  return oneAverageScore\n",
        "getAverageScore(allRawScores)"
      ],
      "metadata": {
        "id": "-m9eos1og01m",
        "colab": {
          "base_uri": "https://localhost:8080/"
        },
        "outputId": "c70134d8-a240-49bb-97c9-71fac04a7c9a"
      },
      "execution_count": null,
      "outputs": [
        {
          "output_type": "execute_result",
          "data": {
            "text/plain": [
              "46.53333333333333"
            ]
          },
          "metadata": {},
          "execution_count": 5
        }
      ]
    },
    {
      "cell_type": "markdown",
      "source": [
        "# Updating two lists"
      ],
      "metadata": {
        "id": "oUb-FzCLgZDI"
      }
    },
    {
      "cell_type": "code",
      "source": [
        "myClassFullNames = [\n",
        "    \"John Smith\",\n",
        "    \"Jane Doe\",\n",
        "    \"Peter Jones\",\n",
        "    \"Mary Williams\",\n",
        "    \"Robert Brown\",\n",
        "    \"Linda Davis\"\n",
        "]\n",
        "departmentLastNames = [\"Smith\", \"New\"]"
      ],
      "metadata": {
        "id": "-OZwov5xXGZa"
      },
      "execution_count": null,
      "outputs": []
    },
    {
      "cell_type": "code",
      "source": [
        "deparmentLastNames=[\"Smith\", \"New\"]\n",
        "myClassLastNames=[name.split()[-1] for name in myClassFullNames]\n",
        "departmentLastNames.extend(myClassLastNames)\n",
        "print(myClassLastNames)\n",
        "print(departmentLastNames)"
      ],
      "metadata": {
        "id": "IKvf7y70vCRS",
        "colab": {
          "base_uri": "https://localhost:8080/"
        },
        "outputId": "25586760-a9cb-4d6e-b8e0-60e7f1300947"
      },
      "execution_count": null,
      "outputs": [
        {
          "output_type": "stream",
          "name": "stdout",
          "text": [
            "['Smith', 'Doe', 'Jones', 'Williams', 'Brown', 'Davis']\n",
            "['Smith', 'New', 'Smith', 'Doe', 'Jones', 'Williams', 'Brown', 'Davis']\n"
          ]
        }
      ]
    },
    {
      "cell_type": "markdown",
      "source": [
        "#Examples of map"
      ],
      "metadata": {
        "id": "AhQIQZaLxuDD"
      }
    },
    {
      "cell_type": "code",
      "source": [
        "def tripple(x):\n",
        "  return x*3"
      ],
      "metadata": {
        "id": "nG6p00gzzqgu"
      },
      "execution_count": null,
      "outputs": []
    },
    {
      "cell_type": "code",
      "source": [
        "map(tripple, range(10)) #map tells Python to apply the function to each element ONE BY ONE"
      ],
      "metadata": {
        "id": "SV9z411lvFcF",
        "colab": {
          "base_uri": "https://localhost:8080/"
        },
        "outputId": "f79cd232-eb4c-4a39-bdf4-105aa8f2066a"
      },
      "execution_count": null,
      "outputs": [
        {
          "output_type": "execute_result",
          "data": {
            "text/plain": [
              "<map at 0x7ca05b19ab60>"
            ]
          },
          "metadata": {},
          "execution_count": 9
        }
      ]
    },
    {
      "cell_type": "code",
      "source": [
        "list(map(tripple, range(10)))"
      ],
      "metadata": {
        "colab": {
          "base_uri": "https://localhost:8080/"
        },
        "id": "z4KFv2m_7Gr7",
        "outputId": "86a9b152-3e44-4334-e1aa-f4f2cae85557"
      },
      "execution_count": null,
      "outputs": [
        {
          "output_type": "execute_result",
          "data": {
            "text/plain": [
              "[0, 3, 6, 9, 12, 15, 18, 21, 24, 27]"
            ]
          },
          "metadata": {},
          "execution_count": 10
        }
      ]
    },
    {
      "cell_type": "markdown",
      "source": [
        "# Geting average scores with `map`"
      ],
      "metadata": {
        "id": "VgoTAVnBghbt"
      }
    },
    {
      "cell_type": "code",
      "source": [
        "allRawScores = [\n",
        "  [42, 71, 39],\n",
        "  [5, 73, 89],\n",
        "  [28, 11, 64],\n",
        "  [29, 69, 3],\n",
        "  [33, 88, 9],\n",
        "  [100, 73, 45],\n",
        "  [43, 17, 26],\n",
        "  [84, 56, 70],\n",
        "  [63, 14, 11],\n",
        "  [94, 12, 35]]"
      ],
      "metadata": {
        "id": "io8URpJsgTNP"
      },
      "execution_count": null,
      "outputs": []
    },
    {
      "cell_type": "code",
      "source": [
        "def getAverageScore(oneRawScore):\n",
        "  total=sum(oneRawScore)\n",
        "  oneAverageScore=total/len(oneRawScore)\n",
        "  return oneAverageScore"
      ],
      "metadata": {
        "id": "bCcyYslF8I2R"
      },
      "execution_count": null,
      "outputs": []
    },
    {
      "cell_type": "code",
      "source": [
        "list(map(getAverageScore, allRawScores))"
      ],
      "metadata": {
        "colab": {
          "base_uri": "https://localhost:8080/"
        },
        "id": "bjoCbiME8VDh",
        "outputId": "26f62d3a-6cab-45c6-e576-6fadfeed6443"
      },
      "execution_count": null,
      "outputs": [
        {
          "output_type": "execute_result",
          "data": {
            "text/plain": [
              "[50.666666666666664,\n",
              " 55.666666666666664,\n",
              " 34.333333333333336,\n",
              " 33.666666666666664,\n",
              " 43.333333333333336,\n",
              " 72.66666666666667,\n",
              " 28.666666666666668,\n",
              " 70.0,\n",
              " 29.333333333333332,\n",
              " 47.0]"
            ]
          },
          "metadata": {},
          "execution_count": 13
        }
      ]
    },
    {
      "cell_type": "markdown",
      "source": [
        "#processing roster with `map`"
      ],
      "metadata": {
        "id": "o-OQywM9haFF"
      }
    },
    {
      "cell_type": "code",
      "source": [
        "rosterLines = [\n",
        "  '1.John Kim',\n",
        " '2.Mary Patel',\n",
        " '3.Michael Nguyen',\n",
        " '4.Jennifer Garcia',\n",
        " '5.David Singh',\n",
        " '6.Linda Chen',\n",
        " '7.James Lopez',\n",
        " '8.Patricia Khan',\n",
        " '9.Robert Yamamoto',\n",
        " '10.Elizabeth Ibrahim']"
      ],
      "metadata": {
        "id": "ZZuhiMtu1QjN"
      },
      "execution_count": null,
      "outputs": []
    },
    {
      "cell_type": "code",
      "source": [
        "def getLastName(oneLine):\n",
        "  parts=oneLine.split()\n",
        "  lastName=parts[-1]\n",
        "  return lastName"
      ],
      "metadata": {
        "id": "B0rP8VJV-hfL"
      },
      "execution_count": null,
      "outputs": []
    },
    {
      "cell_type": "code",
      "source": [
        "allLastNames=list(map(getLastName, rosterLines))\n",
        "allLastNames"
      ],
      "metadata": {
        "colab": {
          "base_uri": "https://localhost:8080/"
        },
        "id": "vLVSjkE_-sGG",
        "outputId": "319bfca5-d247-4f28-a655-71b1822a9b6a"
      },
      "execution_count": null,
      "outputs": [
        {
          "output_type": "execute_result",
          "data": {
            "text/plain": [
              "['Kim',\n",
              " 'Patel',\n",
              " 'Nguyen',\n",
              " 'Garcia',\n",
              " 'Singh',\n",
              " 'Chen',\n",
              " 'Lopez',\n",
              " 'Khan',\n",
              " 'Yamamoto',\n",
              " 'Ibrahim']"
            ]
          },
          "metadata": {},
          "execution_count": 16
        }
      ]
    },
    {
      "cell_type": "code",
      "source": [
        "import os\n",
        "def createLastNameDir(lastName):\n",
        "  folderPath=os.path.join(\"sample_data\", lastName)\n",
        "  os.makedirs(folderPath, exist_ok=True)\n",
        "  print(f\"creating directory at {folderPath}\")\n",
        "  return folderPath"
      ],
      "metadata": {
        "id": "3OiKS6zkAXrJ"
      },
      "execution_count": null,
      "outputs": []
    },
    {
      "cell_type": "code",
      "source": [
        "def getLastName(oneLine):\n",
        "  parts=oneLine.split()\n",
        "  lastName=parts[-1]\n",
        "  return lastName"
      ],
      "metadata": {
        "id": "OQFgdGn-AwZa"
      },
      "execution_count": null,
      "outputs": []
    },
    {
      "cell_type": "code",
      "source": [
        "allLastNames=map(getLastName, rosterLines)\n",
        "allFolderPaths=list(map(createLastNameDir, allLastNames))\n",
        "allFolderPaths"
      ],
      "metadata": {
        "colab": {
          "base_uri": "https://localhost:8080/"
        },
        "id": "XihJIPFQA2pp",
        "outputId": "d242da6e-3dfd-44a2-f56a-89521a4f527b"
      },
      "execution_count": null,
      "outputs": [
        {
          "output_type": "stream",
          "name": "stdout",
          "text": [
            "creating directory at sample_data/Kim\n",
            "creating directory at sample_data/Patel\n",
            "creating directory at sample_data/Nguyen\n",
            "creating directory at sample_data/Garcia\n",
            "creating directory at sample_data/Singh\n",
            "creating directory at sample_data/Chen\n",
            "creating directory at sample_data/Lopez\n",
            "creating directory at sample_data/Khan\n",
            "creating directory at sample_data/Yamamoto\n",
            "creating directory at sample_data/Ibrahim\n"
          ]
        },
        {
          "output_type": "execute_result",
          "data": {
            "text/plain": [
              "['sample_data/Kim',\n",
              " 'sample_data/Patel',\n",
              " 'sample_data/Nguyen',\n",
              " 'sample_data/Garcia',\n",
              " 'sample_data/Singh',\n",
              " 'sample_data/Chen',\n",
              " 'sample_data/Lopez',\n",
              " 'sample_data/Khan',\n",
              " 'sample_data/Yamamoto',\n",
              " 'sample_data/Ibrahim']"
            ]
          },
          "metadata": {},
          "execution_count": 19
        }
      ]
    },
    {
      "cell_type": "markdown",
      "source": [
        "#Course weighted sum example"
      ],
      "metadata": {
        "id": "1zi300CA-WS2"
      }
    },
    {
      "cell_type": "code",
      "source": [
        "allRawScores = [\n",
        "  [42, 71, 39],\n",
        "  [5, 73, 89],\n",
        "  [28, 11, 64],\n",
        "  [29, 69, 3],\n",
        "  [33, 88, 9],\n",
        "  [100, 73, 45],\n",
        "  [43, 17, 26],\n",
        "  [84, 56, 70],\n",
        "  [63, 14, 11],\n",
        "  [94, 12, 35]]"
      ],
      "metadata": {
        "id": "jfCHWnXj-moZ"
      },
      "execution_count": null,
      "outputs": []
    },
    {
      "cell_type": "code",
      "source": [
        "weights = [0.1, 0.1, 0.8]"
      ],
      "metadata": {
        "id": "oP63uf21-nmi"
      },
      "execution_count": null,
      "outputs": []
    },
    {
      "cell_type": "code",
      "source": [
        "import operator\n",
        "def getCourseScoreMap(rawScore):\n",
        "  weights=[0.1, 0.1, 0.8]\n",
        "  weightedScores=map(operator.mul, weights, rawScore)\n",
        "  courseScore=sum(weightedScores)\n",
        "  return courseScore"
      ],
      "metadata": {
        "id": "LeDvNJvLBoaj"
      },
      "execution_count": null,
      "outputs": []
    },
    {
      "cell_type": "code",
      "source": [
        "allWeightedScores=[getCourseScoreMap(rawScore) for rawScore in allRawScores]\n",
        "allWeightedScores"
      ],
      "metadata": {
        "colab": {
          "base_uri": "https://localhost:8080/"
        },
        "id": "UqngORIbB8WF",
        "outputId": "f2aee850-264e-40f8-c0c0-337e5f8c3300"
      },
      "execution_count": null,
      "outputs": [
        {
          "output_type": "execute_result",
          "data": {
            "text/plain": [
              "[42.5, 79.0, 55.1, 12.200000000000001, 19.3, 53.3, 26.8, 70.0, 16.5, 38.6]"
            ]
          },
          "metadata": {},
          "execution_count": 23
        }
      ]
    },
    {
      "cell_type": "markdown",
      "source": [
        "#Zip two lists example"
      ],
      "metadata": {
        "id": "eZk4M5clpUxy"
      }
    },
    {
      "cell_type": "code",
      "source": [
        "rawScore = [80, 90, 60]\n",
        "weights = [0.1, 0.1, 0.8]\n"
      ],
      "metadata": {
        "id": "Trv501PPDB1j"
      },
      "execution_count": null,
      "outputs": []
    },
    {
      "cell_type": "code",
      "source": [
        "combined=list(zip(rawScore, weights))\n",
        "combined"
      ],
      "metadata": {
        "colab": {
          "base_uri": "https://localhost:8080/"
        },
        "id": "P0_PchySDMCW",
        "outputId": "ad66041d-96ce-46df-c9cd-0bd2c219c0e2"
      },
      "execution_count": null,
      "outputs": [
        {
          "output_type": "execute_result",
          "data": {
            "text/plain": [
              "[(80, 0.1), (90, 0.1), (60, 0.8)]"
            ]
          },
          "metadata": {},
          "execution_count": 25
        }
      ]
    },
    {
      "cell_type": "markdown",
      "source": [
        "#get weighted scores with `zip`"
      ],
      "metadata": {
        "id": "2M5atr-Vp7Mb"
      }
    },
    {
      "cell_type": "code",
      "source": [
        "def getCourseScoreZip(rawScore):\n",
        "  weights=[0.1, 0.1, 0.8]\n",
        "  rawWeightPairs=zip(rawScore, weights)\n",
        "  weightedScores=[r*w for (r, w) in rawWeightPairs]\n",
        "  courseScore=sum(weightedScores)\n",
        "  return courseScore\n",
        "\n",
        "allCourseScores=[getCourseScoreZip(rawScore) for rawScore in allRawScores]\n",
        "allCourseScores"
      ],
      "metadata": {
        "id": "3f6wLCdnvUcp",
        "colab": {
          "base_uri": "https://localhost:8080/"
        },
        "outputId": "683ee150-f401-4b0b-d18a-96bf24c3b899"
      },
      "execution_count": null,
      "outputs": [
        {
          "output_type": "execute_result",
          "data": {
            "text/plain": [
              "[42.5, 79.0, 55.1, 12.200000000000001, 19.3, 53.3, 26.8, 70.0, 16.5, 38.6]"
            ]
          },
          "metadata": {},
          "execution_count": 26
        }
      ]
    },
    {
      "cell_type": "markdown",
      "source": [
        "#get weighted course score with `map`"
      ],
      "metadata": {
        "id": "0VZgUJt4sGTb"
      }
    },
    {
      "cell_type": "code",
      "source": [
        "import operator\n",
        "def getCourseScoreMap(rawScore):\n",
        "  weights=[0.1, 0.1, 0.8]\n",
        "  weightedScores=map(operator.mul, weights, rawScore)\n",
        "  courseScore=sum(weightedScores)\n",
        "  return courseScore\n",
        "\n",
        "allCourseScores=[getCourseScoreMap(rawScore) for rawScore in allRawScores]\n",
        "allCourseScores"
      ],
      "metadata": {
        "id": "xy5-rDKMvXDH",
        "colab": {
          "base_uri": "https://localhost:8080/"
        },
        "outputId": "8baa53b3-b328-4562-81a9-399e1757c607"
      },
      "execution_count": null,
      "outputs": [
        {
          "output_type": "execute_result",
          "data": {
            "text/plain": [
              "[42.5, 79.0, 55.1, 12.200000000000001, 19.3, 53.3, 26.8, 70.0, 16.5, 38.6]"
            ]
          },
          "metadata": {},
          "execution_count": 27
        }
      ]
    },
    {
      "cell_type": "markdown",
      "source": [
        "#only use `map`"
      ],
      "metadata": {
        "id": "TBC5rW5Ut586"
      }
    },
    {
      "cell_type": "code",
      "source": [
        "allWeightedScores=list(map(getCourseScoreMap, allRawScores))\n",
        "allWeightedScores"
      ],
      "metadata": {
        "id": "a2kYPK7rvcTg",
        "colab": {
          "base_uri": "https://localhost:8080/"
        },
        "outputId": "ae69bead-2cdb-4f9e-e2e6-9eef4b1e02c7"
      },
      "execution_count": null,
      "outputs": [
        {
          "output_type": "execute_result",
          "data": {
            "text/plain": [
              "[42.5, 79.0, 55.1, 12.200000000000001, 19.3, 53.3, 26.8, 70.0, 16.5, 38.6]"
            ]
          },
          "metadata": {},
          "execution_count": 28
        }
      ]
    },
    {
      "cell_type": "markdown",
      "source": [
        "discussion section"
      ],
      "metadata": {
        "id": "7NxqgtLSXEEu"
      }
    },
    {
      "cell_type": "code",
      "source": [
        "firstNames=[\"Alice\", \"John\", \"Jane\"]\n",
        "lastNames=[\"Kim\", \"Doe\", \"Lee\"]"
      ],
      "metadata": {
        "id": "pA3zSpHVWo60"
      },
      "execution_count": null,
      "outputs": []
    },
    {
      "cell_type": "code",
      "source": [
        "firstLastPairs=[]\n",
        "for i in range(len(firstNames)):\n",
        "  first=firstNames[i]\n",
        "  last=lastNames[i]\n",
        "  firstLastPairs.append((first, last))\n",
        "firstLastPairs"
      ],
      "metadata": {
        "colab": {
          "base_uri": "https://localhost:8080/"
        },
        "id": "7PXIYcHXWyOE",
        "outputId": "19596132-f0d9-4499-d6c9-c0c0fba5ff9a"
      },
      "execution_count": null,
      "outputs": [
        {
          "output_type": "execute_result",
          "data": {
            "text/plain": [
              "[('Alice', 'Kim'), ('John', 'Doe'), ('Jane', 'Lee')]"
            ]
          },
          "metadata": {},
          "execution_count": 30
        }
      ]
    },
    {
      "cell_type": "code",
      "source": [
        "def getPair(first, last):\n",
        "  pair=(first, last)\n",
        "  return pair\n",
        "\n",
        "firstLastPairs=list(map(getPair, firstNames, lastNames))\n",
        "firstLastPairs"
      ],
      "metadata": {
        "colab": {
          "base_uri": "https://localhost:8080/"
        },
        "id": "YWeMEAurXIb6",
        "outputId": "2339fd2e-695a-484c-a0f1-fe6993206c70"
      },
      "execution_count": null,
      "outputs": [
        {
          "output_type": "execute_result",
          "data": {
            "text/plain": [
              "[('Alice', 'Kim'), ('John', 'Doe'), ('Jane', 'Lee')]"
            ]
          },
          "metadata": {},
          "execution_count": 34
        }
      ]
    },
    {
      "cell_type": "code",
      "source": [
        "def mapTao(inputFunction, firstList, secondList):\n",
        "  outcome=[]\n",
        "  for i in range(len(firstList)):\n",
        "    first=firstList[i]\n",
        "    second=secondList[i]\n",
        "    oneOutcome=inputFunction(first, second)\n",
        "    outcome.append(inputFunction(first, second))\n",
        "  return outcome"
      ],
      "metadata": {
        "id": "Km37ypQeZDFi"
      },
      "execution_count": null,
      "outputs": []
    },
    {
      "cell_type": "code",
      "source": [
        "def add(x, y):\n",
        "  return x+y\n",
        "\n",
        "print(mapTao(add, range(3), range(1, 4)))"
      ],
      "metadata": {
        "colab": {
          "base_uri": "https://localhost:8080/"
        },
        "id": "sprC9WZUZyla",
        "outputId": "8710b4ba-bcef-460d-ebdd-072f3c440321"
      },
      "execution_count": null,
      "outputs": [
        {
          "output_type": "stream",
          "name": "stdout",
          "text": [
            "[1, 3, 5]\n"
          ]
        }
      ]
    },
    {
      "cell_type": "code",
      "source": [
        "firstLastPairs=zip(firstNames, lastNames)\n",
        "print(firstLastPairs)\n",
        "for pair in firstLastPairs:\n",
        "  print(pair)"
      ],
      "metadata": {
        "colab": {
          "base_uri": "https://localhost:8080/"
        },
        "id": "_Mm9P7QcXa5c",
        "outputId": "e94048c5-3bfc-4ca7-f560-19d0c3932539"
      },
      "execution_count": null,
      "outputs": [
        {
          "output_type": "stream",
          "name": "stdout",
          "text": [
            "<zip object at 0x7ca059c9d5c0>\n",
            "('Alice', 'Kim')\n",
            "('John', 'Doe')\n",
            "('Jane', 'Lee')\n"
          ]
        }
      ]
    },
    {
      "cell_type": "code",
      "source": [
        "records=[(\"Alice\", 30, \"F\"), (\"Bob\", 29, \"M\"), (\"Charlie\", 32, \"M\")]"
      ],
      "metadata": {
        "id": "0AaFabJyZA-K"
      },
      "execution_count": null,
      "outputs": []
    },
    {
      "cell_type": "code",
      "source": [
        "names=[oneRecord[0] for oneRecord in records]\n",
        "ages=[oneRecord[1] for oneRecord in records]\n",
        "genders=[oneRecord[2] for oneRecord in records]\n",
        "print(names, ages, genders)"
      ],
      "metadata": {
        "colab": {
          "base_uri": "https://localhost:8080/"
        },
        "id": "588iJwHPbpXa",
        "outputId": "a64f84e8-277f-4453-cead-c89ca5214b77"
      },
      "execution_count": null,
      "outputs": [
        {
          "output_type": "stream",
          "name": "stdout",
          "text": [
            "['Alice', 'Bob', 'Charlie'] [30, 29, 32] ['F', 'M', 'M']\n"
          ]
        }
      ]
    },
    {
      "cell_type": "code",
      "source": [
        "aliceRecord, bobRecord, charlieRecord=records\n",
        "print(aliceRecord, bobRecord, charlieRecord)"
      ],
      "metadata": {
        "colab": {
          "base_uri": "https://localhost:8080/"
        },
        "id": "Qub4yRPPczEA",
        "outputId": "2cf6bf1c-8997-4668-ebed-9bac81a59ec5"
      },
      "execution_count": null,
      "outputs": [
        {
          "output_type": "stream",
          "name": "stdout",
          "text": [
            "('Alice', 30, 'F') ('Bob', 29, 'M') ('Charlie', 32, 'M')\n"
          ]
        }
      ]
    },
    {
      "cell_type": "code",
      "source": [
        "print(*records)"
      ],
      "metadata": {
        "colab": {
          "base_uri": "https://localhost:8080/"
        },
        "id": "3o5Ad6XMdJHs",
        "outputId": "5b7a402a-014d-4df0-ac34-bf768e65aef1"
      },
      "execution_count": null,
      "outputs": [
        {
          "output_type": "stream",
          "name": "stdout",
          "text": [
            "('Alice', 30, 'F') ('Bob', 29, 'M') ('Charlie', 32, 'M')\n"
          ]
        }
      ]
    },
    {
      "cell_type": "code",
      "source": [
        "list(zip(aliceRecord, bobRecord, charlieRecord))"
      ],
      "metadata": {
        "colab": {
          "base_uri": "https://localhost:8080/"
        },
        "id": "vf8Xare0dSng",
        "outputId": "c100242d-2f84-454c-cc71-4a7c36e74ec4"
      },
      "execution_count": null,
      "outputs": [
        {
          "output_type": "execute_result",
          "data": {
            "text/plain": [
              "[('Alice', 'Bob', 'Charlie'), (30, 29, 32), ('F', 'M', 'M')]"
            ]
          },
          "metadata": {},
          "execution_count": 46
        }
      ]
    },
    {
      "cell_type": "code",
      "source": [
        "names, ages, genders=zip(aliceRecord, bobRecord, charlieRecord)\n",
        "print(names, ages, genders)"
      ],
      "metadata": {
        "colab": {
          "base_uri": "https://localhost:8080/"
        },
        "id": "8bK2JCdadsYr",
        "outputId": "cae9a77b-bad8-4bfc-e238-93ac06512696"
      },
      "execution_count": null,
      "outputs": [
        {
          "output_type": "stream",
          "name": "stdout",
          "text": [
            "('Alice', 'Bob', 'Charlie') (30, 29, 32) ('F', 'M', 'M')\n"
          ]
        }
      ]
    },
    {
      "cell_type": "code",
      "source": [
        "poem=\"\"\"\n",
        "Fall, leaves, fall; die, flowers, away;\n",
        "Lengthen night and shorten day;\n",
        "Every leaf speaks bliss to me\n",
        "Fluttering from the autumn tree.\n",
        "I shall smile when wreaths of snow\n",
        "Blossom where the rose should grow;\n",
        "I shall sing when night’s decay\n",
        "Ushers in a drearier day.\n",
        "\"\"\""
      ],
      "metadata": {
        "id": "VXusp-V1fRQq"
      },
      "execution_count": null,
      "outputs": []
    },
    {
      "cell_type": "code",
      "source": [
        "sentences=poem.strip().split(\".\")\n",
        "sentences"
      ],
      "metadata": {
        "colab": {
          "base_uri": "https://localhost:8080/"
        },
        "id": "aZ-aHN-mfdYH",
        "outputId": "fab05e92-5495-4d01-be4f-be8958ebb43f"
      },
      "execution_count": null,
      "outputs": [
        {
          "output_type": "execute_result",
          "data": {
            "text/plain": [
              "['Fall, leaves, fall; die, flowers, away;\\nLengthen night and shorten day;\\nEvery leaf speaks bliss to me\\nFluttering from the autumn tree',\n",
              " '\\nI shall smile when wreaths of snow\\nBlossom where the rose should grow;\\nI shall sing when night’s decay\\nUshers in a drearier day',\n",
              " '']"
            ]
          },
          "metadata": {},
          "execution_count": 63
        }
      ]
    },
    {
      "cell_type": "code",
      "source": [
        "sentencesWithoutLineBreaker=[s.replace(\"\\n\", \"\") for s in sentences if len(s)>0] #non pythonic\n",
        "sentencesWithoutLineBreaker"
      ],
      "metadata": {
        "colab": {
          "base_uri": "https://localhost:8080/"
        },
        "id": "a0WZLb2HfoMW",
        "outputId": "4882eaf1-fedf-4e41-8b6a-ab2093a2479a"
      },
      "execution_count": null,
      "outputs": [
        {
          "output_type": "execute_result",
          "data": {
            "text/plain": [
              "['Fall, leaves, fall; die, flowers, away;Lengthen night and shorten day;Every leaf speaks bliss to meFluttering from the autumn tree',\n",
              " 'I shall smile when wreaths of snowBlossom where the rose should grow;I shall sing when night’s decayUshers in a drearier day']"
            ]
          },
          "metadata": {},
          "execution_count": 64
        }
      ]
    },
    {
      "cell_type": "code",
      "source": [
        "sentenceWords=[s.replace(\"\\n\", \"\") for s in sentences if s] #pythonic\n",
        "sentenceWords"
      ],
      "metadata": {
        "colab": {
          "base_uri": "https://localhost:8080/"
        },
        "id": "kX_1oDeBf9ER",
        "outputId": "a36ce122-518b-407c-8909-c1c61937838b"
      },
      "execution_count": null,
      "outputs": [
        {
          "output_type": "execute_result",
          "data": {
            "text/plain": [
              "['Fall, leaves, fall; die, flowers, away;Lengthen night and shorten day;Every leaf speaks bliss to meFluttering from the autumn tree',\n",
              " 'I shall smile when wreaths of snowBlossom where the rose should grow;I shall sing when night’s decayUshers in a drearier day']"
            ]
          },
          "metadata": {},
          "execution_count": 65
        }
      ]
    },
    {
      "cell_type": "code",
      "source": [
        "sentenceWordCounts=[len(words) for words in sentenceWords]\n",
        "sentenceWordCounts"
      ],
      "metadata": {
        "colab": {
          "base_uri": "https://localhost:8080/"
        },
        "id": "ncr0O0SvgWB5",
        "outputId": "eb896700-ee3a-4b3e-93f7-6c9b4ff0a833"
      },
      "execution_count": null,
      "outputs": [
        {
          "output_type": "execute_result",
          "data": {
            "text/plain": [
              "[133, 128]"
            ]
          },
          "metadata": {},
          "execution_count": 62
        }
      ]
    }
  ]
}