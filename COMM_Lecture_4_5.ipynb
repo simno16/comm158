{
  "nbformat": 4,
  "nbformat_minor": 0,
  "metadata": {
    "colab": {
      "provenance": []
    },
    "kernelspec": {
      "name": "python3",
      "display_name": "Python 3"
    },
    "language_info": {
      "name": "python"
    }
  },
  "cells": [
    {
      "cell_type": "code",
      "execution_count": null,
      "metadata": {
        "id": "NfABbFLmup0J",
        "colab": {
          "base_uri": "https://localhost:8080/"
        },
        "outputId": "f4b64226-a082-4d13-f047-c51d9736b136"
      },
      "outputs": [
        {
          "output_type": "execute_result",
          "data": {
            "text/plain": [
              "['.config',\n",
              " 'project1_stringManipulation',\n",
              " 'execution-time-log.txt',\n",
              " 'sample_data']"
            ]
          },
          "metadata": {},
          "execution_count": 11
        }
      ],
      "source": [
        "import os\n",
        "root=os.getcwd()\n",
        "projectName=\"project1_stringManipulation\"\n",
        "projectDir=os.path.join(root, projectName) #create string path\n",
        "os.makedirs(projectDir, exist_ok=True) #make directory\n",
        "resultDir=os.path.join(projectDir, \"result\")\n",
        "os.makedirs(resultDir, exist_ok=True)\n",
        "dataDir=os.path.join(projectDir, \"data\")\n",
        "os.makedirs(dataDir, exist_ok=True)\n",
        "os.listdir() #list directories"
      ]
    },
    {
      "cell_type": "code",
      "source": [
        "os.listdir(projectDir)"
      ],
      "metadata": {
        "colab": {
          "base_uri": "https://localhost:8080/"
        },
        "id": "BTbj2puEzLha",
        "outputId": "53c2c9dc-f8a7-4320-89f3-5b8a67e60275"
      },
      "execution_count": null,
      "outputs": [
        {
          "output_type": "execute_result",
          "data": {
            "text/plain": [
              "['data', 'result']"
            ]
          },
          "metadata": {},
          "execution_count": 12
        }
      ]
    },
    {
      "cell_type": "code",
      "source": [
        "!ls #check terminal"
      ],
      "metadata": {
        "colab": {
          "base_uri": "https://localhost:8080/"
        },
        "id": "yWs3fRW9z7Nt",
        "outputId": "971c805c-4e9b-4dc8-c580-9a29523e14e5"
      },
      "execution_count": null,
      "outputs": [
        {
          "output_type": "stream",
          "name": "stdout",
          "text": [
            "execution-time-log.txt\tproject1_stringManipulation  sample_data\n"
          ]
        }
      ]
    },
    {
      "cell_type": "code",
      "source": [
        "!ls project1_stringManipulation"
      ],
      "metadata": {
        "colab": {
          "base_uri": "https://localhost:8080/"
        },
        "id": "qyJf__IJz8kZ",
        "outputId": "75c6bfdf-dcbf-4bfa-834d-2b082bebd763"
      },
      "execution_count": null,
      "outputs": [
        {
          "output_type": "stream",
          "name": "stdout",
          "text": [
            "data  result\n"
          ]
        }
      ]
    },
    {
      "cell_type": "code",
      "source": [
        "import gdown\n",
        "rosterLink=\"https://drive.google.com/file/d/1AD3ey3mnvfIBppjgxqC2uQiTCfBFXXci/view?usp=share_link\"\n",
        "rosterPath=os.path.join(dataDir, \"sample_roster.txt\")\n",
        "gdown.download(rosterLink, rosterPath, quiet=False, fuzzy=True) #order: what to download, download to where, keyword arguments"
      ],
      "metadata": {
        "colab": {
          "base_uri": "https://localhost:8080/",
          "height": 107
        },
        "id": "JRi6z8fJ0HF0",
        "outputId": "e22d0531-b8f4-464e-cfff-4fa19336b3ce"
      },
      "execution_count": null,
      "outputs": [
        {
          "output_type": "stream",
          "name": "stderr",
          "text": [
            "Downloading...\n",
            "From: https://drive.google.com/uc?id=1AD3ey3mnvfIBppjgxqC2uQiTCfBFXXci\n",
            "To: /content/project1_stringManipulation/data/sample_roster.txt\n",
            "100%|██████████| 154/154 [00:00<00:00, 619kB/s]\n"
          ]
        },
        {
          "output_type": "execute_result",
          "data": {
            "text/plain": [
              "'/content/project1_stringManipulation/data/sample_roster.txt'"
            ],
            "application/vnd.google.colaboratory.intrinsic+json": {
              "type": "string"
            }
          },
          "metadata": {},
          "execution_count": 15
        }
      ]
    },
    {
      "cell_type": "code",
      "source": [
        "!ls project1_stringManipulation/data"
      ],
      "metadata": {
        "colab": {
          "base_uri": "https://localhost:8080/"
        },
        "id": "Gzl6FiOo1331",
        "outputId": "b1275d4d-2ceb-4e2e-96e8-97c7f2f79b4d"
      },
      "execution_count": null,
      "outputs": [
        {
          "output_type": "stream",
          "name": "stdout",
          "text": [
            "sample_roster.txt\n"
          ]
        }
      ]
    },
    {
      "cell_type": "code",
      "source": [
        "os.path.isfile(rosterPath)"
      ],
      "metadata": {
        "colab": {
          "base_uri": "https://localhost:8080/"
        },
        "id": "wvApfHgC5DsP",
        "outputId": "594662ef-a598-40c2-b583-a9d886e5f165"
      },
      "execution_count": null,
      "outputs": [
        {
          "output_type": "execute_result",
          "data": {
            "text/plain": [
              "True"
            ]
          },
          "metadata": {},
          "execution_count": 17
        }
      ]
    },
    {
      "cell_type": "code",
      "source": [
        "!cat project1_stringManipulation/data/sample_roster.txt"
      ],
      "metadata": {
        "colab": {
          "base_uri": "https://localhost:8080/"
        },
        "id": "JgWEm7My5Mqt",
        "outputId": "3f001876-2016-4226-d074-1812cf3a8698"
      },
      "execution_count": null,
      "outputs": [
        {
          "output_type": "stream",
          "name": "stdout",
          "text": [
            "1.John Kim\n",
            "2.Mary Patel\n",
            "3.Michael Nguyen\n",
            "4.Jennifer Garcia\n",
            "5.David Singh\n",
            "6.Linda Chen\n",
            "7.James Lopez\n",
            "8.Patricia Khan\n",
            "9.Robert Yamamoto\n",
            "10.Elizabeth Ibrahim"
          ]
        }
      ]
    },
    {
      "cell_type": "code",
      "source": [
        "#read the entire file content into a string\n",
        "with open(rosterPath, \"r\") as rosterfile:\n",
        "  rosterContent=rosterfile.read()\n",
        "\n",
        "#you can print the content to verify\n",
        "print(\"file successfully read into the 'roster_content' string\")\n",
        "print(rosterContent)\n",
        "\n",
        "#save to file\n",
        "with open(\"execution-time-log.txt\", \"w\") as file: #\"w\" means write (overwrites if exist)\n",
        "  file.write(rosterContent) #write the data"
      ],
      "metadata": {
        "colab": {
          "base_uri": "https://localhost:8080/"
        },
        "id": "6UHAcas26ty6",
        "outputId": "a8bc39e7-93db-4bc5-b527-f9b3a22c22f7"
      },
      "execution_count": null,
      "outputs": [
        {
          "output_type": "stream",
          "name": "stdout",
          "text": [
            "file successfully read into the 'roster_content' string\n",
            "1.John Kim\n",
            "2.Mary Patel\n",
            "3.Michael Nguyen\n",
            "4.Jennifer Garcia\n",
            "5.David Singh\n",
            "6.Linda Chen\n",
            "7.James Lopez\n",
            "8.Patricia Khan\n",
            "9.Robert Yamamoto\n",
            "10.Elizabeth Ibrahim\n"
          ]
        }
      ]
    },
    {
      "cell_type": "code",
      "source": [
        "type(rosterContent)"
      ],
      "metadata": {
        "colab": {
          "base_uri": "https://localhost:8080/"
        },
        "id": "G2rgRSy39UhF",
        "outputId": "2831ef14-81a2-4015-ac5c-53d102e5fa0b"
      },
      "execution_count": null,
      "outputs": [
        {
          "output_type": "execute_result",
          "data": {
            "text/plain": [
              "str"
            ]
          },
          "metadata": {},
          "execution_count": 20
        }
      ]
    },
    {
      "cell_type": "code",
      "source": [
        "len(rosterContent)"
      ],
      "metadata": {
        "colab": {
          "base_uri": "https://localhost:8080/"
        },
        "id": "9k_AKI669XSJ",
        "outputId": "61e7afc2-bd15-4880-b0ff-a1da04df9c94"
      },
      "execution_count": null,
      "outputs": [
        {
          "output_type": "execute_result",
          "data": {
            "text/plain": [
              "154"
            ]
          },
          "metadata": {},
          "execution_count": 21
        }
      ]
    },
    {
      "cell_type": "code",
      "source": [
        "dir(rosterContent) #helps you see what things (like variable, functions methods) are available"
      ],
      "metadata": {
        "colab": {
          "base_uri": "https://localhost:8080/"
        },
        "id": "Y6-HGXD4-Hun",
        "outputId": "59fafc5b-15fb-49ef-f385-ea7aae3cc8ed"
      },
      "execution_count": null,
      "outputs": [
        {
          "output_type": "execute_result",
          "data": {
            "text/plain": [
              "['__add__',\n",
              " '__class__',\n",
              " '__contains__',\n",
              " '__delattr__',\n",
              " '__dir__',\n",
              " '__doc__',\n",
              " '__eq__',\n",
              " '__format__',\n",
              " '__ge__',\n",
              " '__getattribute__',\n",
              " '__getitem__',\n",
              " '__getnewargs__',\n",
              " '__getstate__',\n",
              " '__gt__',\n",
              " '__hash__',\n",
              " '__init__',\n",
              " '__init_subclass__',\n",
              " '__iter__',\n",
              " '__le__',\n",
              " '__len__',\n",
              " '__lt__',\n",
              " '__mod__',\n",
              " '__mul__',\n",
              " '__ne__',\n",
              " '__new__',\n",
              " '__reduce__',\n",
              " '__reduce_ex__',\n",
              " '__repr__',\n",
              " '__rmod__',\n",
              " '__rmul__',\n",
              " '__setattr__',\n",
              " '__sizeof__',\n",
              " '__str__',\n",
              " '__subclasshook__',\n",
              " 'capitalize',\n",
              " 'casefold',\n",
              " 'center',\n",
              " 'count',\n",
              " 'encode',\n",
              " 'endswith',\n",
              " 'expandtabs',\n",
              " 'find',\n",
              " 'format',\n",
              " 'format_map',\n",
              " 'index',\n",
              " 'isalnum',\n",
              " 'isalpha',\n",
              " 'isascii',\n",
              " 'isdecimal',\n",
              " 'isdigit',\n",
              " 'isidentifier',\n",
              " 'islower',\n",
              " 'isnumeric',\n",
              " 'isprintable',\n",
              " 'isspace',\n",
              " 'istitle',\n",
              " 'isupper',\n",
              " 'join',\n",
              " 'ljust',\n",
              " 'lower',\n",
              " 'lstrip',\n",
              " 'maketrans',\n",
              " 'partition',\n",
              " 'removeprefix',\n",
              " 'removesuffix',\n",
              " 'replace',\n",
              " 'rfind',\n",
              " 'rindex',\n",
              " 'rjust',\n",
              " 'rpartition',\n",
              " 'rsplit',\n",
              " 'rstrip',\n",
              " 'split',\n",
              " 'splitlines',\n",
              " 'startswith',\n",
              " 'strip',\n",
              " 'swapcase',\n",
              " 'title',\n",
              " 'translate',\n",
              " 'upper',\n",
              " 'zfill']"
            ]
          },
          "metadata": {},
          "execution_count": 22
        }
      ]
    },
    {
      "cell_type": "code",
      "source": [
        "lines=rosterContent.splitlines()\n",
        "linesWithEnd=rosterContent.splitlines(keepends=True)\n",
        "linesWithoutEnd=rosterContent.splitlines()\n",
        "print(lines)\n",
        "linesWithEnd\n",
        "linesWithoutEnd"
      ],
      "metadata": {
        "colab": {
          "base_uri": "https://localhost:8080/"
        },
        "id": "03hQ9jyz-Tkq",
        "outputId": "f1eef40d-8c97-46f6-afc7-af8df1beb3cb"
      },
      "execution_count": null,
      "outputs": [
        {
          "output_type": "stream",
          "name": "stdout",
          "text": [
            "['1.John Kim', '2.Mary Patel', '3.Michael Nguyen', '4.Jennifer Garcia', '5.David Singh', '6.Linda Chen', '7.James Lopez', '8.Patricia Khan', '9.Robert Yamamoto', '10.Elizabeth Ibrahim']\n"
          ]
        },
        {
          "output_type": "execute_result",
          "data": {
            "text/plain": [
              "['1.John Kim',\n",
              " '2.Mary Patel',\n",
              " '3.Michael Nguyen',\n",
              " '4.Jennifer Garcia',\n",
              " '5.David Singh',\n",
              " '6.Linda Chen',\n",
              " '7.James Lopez',\n",
              " '8.Patricia Khan',\n",
              " '9.Robert Yamamoto',\n",
              " '10.Elizabeth Ibrahim']"
            ]
          },
          "metadata": {},
          "execution_count": 29
        }
      ]
    },
    {
      "cell_type": "code",
      "source": [
        "#docs.python.org can see update log and syntax"
      ],
      "metadata": {
        "id": "1YnIJsNQ_IDx"
      },
      "execution_count": null,
      "outputs": []
    },
    {
      "cell_type": "code",
      "source": [
        "#split: how to split a large object into smaller objects\n",
        "#apply (process): how to process each smaller unit with some applications\n",
        "#combine: how to combine all the results"
      ],
      "metadata": {
        "id": "r6g9HlRqC3sz"
      },
      "execution_count": null,
      "outputs": []
    },
    {
      "cell_type": "code",
      "source": [
        "names=[\"Alice\", \"Charlie\", \"Bob\", \"Adam\"] #manually creating a list of strings\n",
        "mixedObjects=[\"Alice\", 10, 10.5, True, [\"foor\", \"bar\"]] #can mix objects, although not ideal\n",
        "len(names)\n",
        "firstName=names[0]\n",
        "firstName"
      ],
      "metadata": {
        "colab": {
          "base_uri": "https://localhost:8080/",
          "height": 35
        },
        "id": "rAMFyKYxFYRr",
        "outputId": "fd825438-ca95-402f-f62f-e9e3272bc69e"
      },
      "execution_count": null,
      "outputs": [
        {
          "output_type": "execute_result",
          "data": {
            "text/plain": [
              "'Alice'"
            ],
            "application/vnd.google.colaboratory.intrinsic+json": {
              "type": "string"
            }
          },
          "metadata": {},
          "execution_count": 34
        }
      ]
    },
    {
      "cell_type": "code",
      "source": [
        "secondName=names[1]\n",
        "secondName\n",
        "#...etc"
      ],
      "metadata": {
        "colab": {
          "base_uri": "https://localhost:8080/",
          "height": 35
        },
        "id": "NCYw9CMmG1D0",
        "outputId": "3737f5ab-32ee-4c66-8cf9-fdd66d369d18"
      },
      "execution_count": null,
      "outputs": [
        {
          "output_type": "execute_result",
          "data": {
            "text/plain": [
              "'Charlie'"
            ],
            "application/vnd.google.colaboratory.intrinsic+json": {
              "type": "string"
            }
          },
          "metadata": {},
          "execution_count": 35
        }
      ]
    },
    {
      "cell_type": "code",
      "source": [
        "lastIndex=len(names)-1 #too hard to count\n",
        "lastItem=names[lastIndex]\n",
        "lastItem"
      ],
      "metadata": {
        "colab": {
          "base_uri": "https://localhost:8080/",
          "height": 35
        },
        "id": "PEIxzN9IHA4z",
        "outputId": "12d6f7cc-bc69-4a1f-a25a-f7941770c5ff"
      },
      "execution_count": null,
      "outputs": [
        {
          "output_type": "execute_result",
          "data": {
            "text/plain": [
              "'Adam'"
            ],
            "application/vnd.google.colaboratory.intrinsic+json": {
              "type": "string"
            }
          },
          "metadata": {},
          "execution_count": 38
        }
      ]
    },
    {
      "cell_type": "code",
      "source": [
        "#or\n",
        "lastItem=names[-1]\n",
        "lastItem"
      ],
      "metadata": {
        "colab": {
          "base_uri": "https://localhost:8080/",
          "height": 35
        },
        "id": "0-KtHbriJr0Y",
        "outputId": "5f6b44eb-a5d5-4ab5-cdb4-d7e175493b38"
      },
      "execution_count": null,
      "outputs": [
        {
          "output_type": "execute_result",
          "data": {
            "text/plain": [
              "'Adam'"
            ],
            "application/vnd.google.colaboratory.intrinsic+json": {
              "type": "string"
            }
          },
          "metadata": {},
          "execution_count": 39
        }
      ]
    },
    {
      "cell_type": "code",
      "source": [
        "secondlastItem=names[-2]\n",
        "secondlastItem"
      ],
      "metadata": {
        "colab": {
          "base_uri": "https://localhost:8080/",
          "height": 35
        },
        "id": "WbdSoadSJvnC",
        "outputId": "e3955966-a819-40d3-e315-94c240c7f400"
      },
      "execution_count": null,
      "outputs": [
        {
          "output_type": "execute_result",
          "data": {
            "text/plain": [
              "'Bob'"
            ],
            "application/vnd.google.colaboratory.intrinsic+json": {
              "type": "string"
            }
          },
          "metadata": {},
          "execution_count": 40
        }
      ]
    },
    {
      "cell_type": "code",
      "source": [
        "#change name\n",
        "names[0]=\"Simon\"\n",
        "names"
      ],
      "metadata": {
        "colab": {
          "base_uri": "https://localhost:8080/"
        },
        "id": "YsSqBkmuJ7qL",
        "outputId": "8af1e61b-142d-47ef-f6ae-cb6fa7b9b515"
      },
      "execution_count": null,
      "outputs": [
        {
          "output_type": "execute_result",
          "data": {
            "text/plain": [
              "['Simon', 'Charlie', 'Bob', 'Adam']"
            ]
          },
          "metadata": {},
          "execution_count": 41
        }
      ]
    },
    {
      "cell_type": "code",
      "source": [
        "firstLine=lines[0]\n",
        "firstLine"
      ],
      "metadata": {
        "colab": {
          "base_uri": "https://localhost:8080/",
          "height": 35
        },
        "id": "fuP39KxeKzdM",
        "outputId": "81531d68-e521-4418-b35f-c576dee9a02a"
      },
      "execution_count": null,
      "outputs": [
        {
          "output_type": "execute_result",
          "data": {
            "text/plain": [
              "'1.John Kim'"
            ],
            "application/vnd.google.colaboratory.intrinsic+json": {
              "type": "string"
            }
          },
          "metadata": {},
          "execution_count": 45
        }
      ]
    },
    {
      "cell_type": "code",
      "source": [
        "len(firstLine)"
      ],
      "metadata": {
        "colab": {
          "base_uri": "https://localhost:8080/"
        },
        "id": "iRKy8RWQLGPs",
        "outputId": "32d11f14-37b7-45dc-9ff7-549643b50ff6"
      },
      "execution_count": null,
      "outputs": [
        {
          "output_type": "execute_result",
          "data": {
            "text/plain": [
              "str"
            ]
          },
          "metadata": {},
          "execution_count": 46
        }
      ]
    },
    {
      "cell_type": "code",
      "source": [
        "type(firstLine)"
      ],
      "metadata": {
        "colab": {
          "base_uri": "https://localhost:8080/"
        },
        "id": "opU3Zv-vLKaW",
        "outputId": "180ec5e7-1d8e-44ac-ceed-e33fe16f3e6c"
      },
      "execution_count": null,
      "outputs": [
        {
          "output_type": "execute_result",
          "data": {
            "text/plain": [
              "str"
            ]
          },
          "metadata": {},
          "execution_count": 47
        }
      ]
    },
    {
      "cell_type": "code",
      "source": [
        "firstLine[1]"
      ],
      "metadata": {
        "colab": {
          "base_uri": "https://localhost:8080/",
          "height": 35
        },
        "id": "FyxOWW7sLNpp",
        "outputId": "92a8452f-8bc0-4a07-9cff-1fe432f528ca"
      },
      "execution_count": null,
      "outputs": [
        {
          "output_type": "execute_result",
          "data": {
            "text/plain": [
              "'.'"
            ],
            "application/vnd.google.colaboratory.intrinsic+json": {
              "type": "string"
            }
          },
          "metadata": {},
          "execution_count": 48
        }
      ]
    },
    {
      "cell_type": "code",
      "source": [
        "#index last 3 characters\n",
        "lastName=firstLine[-3:]\n",
        "lastName"
      ],
      "metadata": {
        "colab": {
          "base_uri": "https://localhost:8080/",
          "height": 35
        },
        "id": "TcSB4GbQLd50",
        "outputId": "9a9b71bc-5a61-4923-e039-170eebacf007"
      },
      "execution_count": null,
      "outputs": [
        {
          "output_type": "execute_result",
          "data": {
            "text/plain": [
              "'Kim'"
            ],
            "application/vnd.google.colaboratory.intrinsic+json": {
              "type": "string"
            }
          },
          "metadata": {},
          "execution_count": 56
        }
      ]
    },
    {
      "cell_type": "code",
      "source": [
        "parts=firstLine.split()\n",
        "parts"
      ],
      "metadata": {
        "colab": {
          "base_uri": "https://localhost:8080/"
        },
        "id": "NLFh1A1UNeWq",
        "outputId": "89f88468-f94d-4e31-b597-d7fca53608cc"
      },
      "execution_count": null,
      "outputs": [
        {
          "output_type": "execute_result",
          "data": {
            "text/plain": [
              "['1.John', 'Kim']"
            ]
          },
          "metadata": {},
          "execution_count": 58
        }
      ]
    },
    {
      "cell_type": "code",
      "source": [
        "lastName=parts[-1]\n",
        "lastName"
      ],
      "metadata": {
        "colab": {
          "base_uri": "https://localhost:8080/",
          "height": 35
        },
        "id": "M2hzd1TwNnBk",
        "outputId": "f096ffc0-de22-4524-fee9-a038c2f92353"
      },
      "execution_count": null,
      "outputs": [
        {
          "output_type": "execute_result",
          "data": {
            "text/plain": [
              "'Kim'"
            ],
            "application/vnd.google.colaboratory.intrinsic+json": {
              "type": "string"
            }
          },
          "metadata": {},
          "execution_count": 59
        }
      ]
    },
    {
      "cell_type": "code",
      "source": [
        "for oneLine in lines:\n",
        "  parts=oneLine.split()\n",
        "  lastName=parts[-1]\n",
        "  print(f\"first name of {oneLine} is {lastName}\")"
      ],
      "metadata": {
        "colab": {
          "base_uri": "https://localhost:8080/"
        },
        "id": "nj5CgdofOH69",
        "outputId": "48654b2a-6c8c-46ba-f12c-7f4e94889333"
      },
      "execution_count": null,
      "outputs": [
        {
          "output_type": "stream",
          "name": "stdout",
          "text": [
            "first name of 1.John Kim is Kim\n",
            "first name of 2.Mary Patel is Patel\n",
            "first name of 3.Michael Nguyen is Nguyen\n",
            "first name of 4.Jennifer Garcia is Garcia\n",
            "first name of 5.David Singh is Singh\n",
            "first name of 6.Linda Chen is Chen\n",
            "first name of 7.James Lopez is Lopez\n",
            "first name of 8.Patricia Khan is Khan\n",
            "first name of 9.Robert Yamamoto is Yamamoto\n",
            "first name of 10.Elizabeth Ibrahim is Ibrahim\n"
          ]
        }
      ]
    },
    {
      "cell_type": "code",
      "source": [
        "root=os.getcwd()\n",
        "projectName="
      ],
      "metadata": {
        "id": "IYCp0-U9PCet"
      },
      "execution_count": null,
      "outputs": []
    }
  ]
}