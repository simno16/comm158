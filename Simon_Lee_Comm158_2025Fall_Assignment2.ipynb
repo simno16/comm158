{
  "nbformat": 4,
  "nbformat_minor": 0,
  "metadata": {
    "colab": {
      "provenance": []
    },
    "kernelspec": {
      "name": "python3",
      "display_name": "Python 3"
    },
    "language_info": {
      "name": "python"
    }
  },
  "cells": [
    {
      "cell_type": "markdown",
      "source": [
        "Make sure you copy the notebook to your drive. Before you start, you are highly encouraged to uncheck \"Show AI-powered inline completions\" in the settings - this will force you to type everything and notice your own typos. In addition, you do not have to delete any text cells that contain instructions."
      ],
      "metadata": {
        "id": "0iZKva7Gt3IH"
      }
    },
    {
      "cell_type": "markdown",
      "source": [
        "1. Mount your google drive to this colab notebook. Reminder to import all the libraries that you will need before mounting.\n",
        "\n",
        "---\n",
        "\n"
      ],
      "metadata": {
        "id": "ZW2qkqcBudgf"
      }
    },
    {
      "cell_type": "code",
      "source": [
        "import os\n",
        "from google.colab import drive\n",
        "drive.mount(\"/content/drive\")"
      ],
      "metadata": {
        "id": "Fepei5wRuxpG",
        "colab": {
          "base_uri": "https://localhost:8080/"
        },
        "outputId": "0153e3a8-4212-4a60-ada8-25a0e9a1e582"
      },
      "execution_count": null,
      "outputs": [
        {
          "output_type": "stream",
          "name": "stdout",
          "text": [
            "Mounted at /content/drive\n"
          ]
        }
      ]
    },
    {
      "cell_type": "markdown",
      "source": [
        "2. Print your current working directory.\n",
        "\n"
      ],
      "metadata": {
        "id": "Wv_zWYJXuzvZ"
      }
    },
    {
      "cell_type": "code",
      "source": [
        "cwd=os.getcwd()\n",
        "print(cwd)"
      ],
      "metadata": {
        "id": "3X20RWbopG_9",
        "colab": {
          "base_uri": "https://localhost:8080/"
        },
        "outputId": "3d18b0c8-3837-47a3-e309-5487fa3dcb3f"
      },
      "execution_count": null,
      "outputs": [
        {
          "output_type": "stream",
          "name": "stdout",
          "text": [
            "/content\n"
          ]
        }
      ]
    },
    {
      "cell_type": "markdown",
      "source": [
        "3. Print out all the files and folders under the current working directory. You should now see a folder named \"drive\" listed.\n",
        "This indicates that your Google Drive has been successfully mounted."
      ],
      "metadata": {
        "id": "ngVnKYXZpGHH"
      }
    },
    {
      "cell_type": "code",
      "execution_count": null,
      "metadata": {
        "id": "A8BviOJ3kjZp",
        "colab": {
          "base_uri": "https://localhost:8080/"
        },
        "outputId": "2943455e-7305-47a4-ff21-e4d1230d430d"
      },
      "outputs": [
        {
          "output_type": "execute_result",
          "data": {
            "text/plain": [
              "['.config', 'drive', 'sample_data']"
            ]
          },
          "metadata": {},
          "execution_count": 5
        }
      ],
      "source": [
        "os.listdir(cwd)"
      ]
    },
    {
      "cell_type": "markdown",
      "source": [
        "4. Print out the content within the \"drive\" folder. Confirm that \"MyDrive\" shows up in the drive folder."
      ],
      "metadata": {
        "id": "Qen96xl4xmSz"
      }
    },
    {
      "cell_type": "code",
      "source": [
        "os.listdir(\"/content/drive/MyDrive\")"
      ],
      "metadata": {
        "id": "Sjxqcit7owVG",
        "colab": {
          "base_uri": "https://localhost:8080/"
        },
        "outputId": "313313bb-13d0-4e66-a9fb-108c3d3c725c"
      },
      "execution_count": null,
      "outputs": [
        {
          "output_type": "execute_result",
          "data": {
            "text/plain": [
              "['comm158', 'Colab Notebooks', 'PythonForSocialScience']"
            ]
          },
          "metadata": {},
          "execution_count": 6
        }
      ]
    },
    {
      "cell_type": "markdown",
      "source": [
        "5. Assign the full path of \"MyDrive\" to a variable using `os.path.join()`"
      ],
      "metadata": {
        "id": "Tgj3-RxQs-23"
      }
    },
    {
      "cell_type": "code",
      "metadata": {
        "colab": {
          "base_uri": "https://localhost:8080/"
        },
        "id": "fa5c943d",
        "outputId": "b80f5fa0-04aa-4a3c-8e2e-95f1d1af2ae4"
      },
      "source": [
        "driveDir=os.path.join(cwd, \"drive\", \"MyDrive\")\n",
        "print(driveDir)"
      ],
      "execution_count": null,
      "outputs": [
        {
          "output_type": "stream",
          "name": "stdout",
          "text": [
            "/content/drive/MyDrive\n"
          ]
        }
      ]
    },
    {
      "cell_type": "markdown",
      "source": [
        "6. Inspect the content within \"MyDrive\" using the full path you just created. List the content within \"MyDrive\" using the full path you just created\n",
        "(After you print it out, you may clear selected output to protect your privacy. It can be selected using the button on the left side of the output.)\n"
      ],
      "metadata": {
        "id": "x-heV2AvpYXl"
      }
    },
    {
      "cell_type": "code",
      "source": [
        "os.listdir(driveDir)"
      ],
      "metadata": {
        "id": "56-dqMKWyd60",
        "colab": {
          "base_uri": "https://localhost:8080/"
        },
        "outputId": "9dd09ef6-22a3-402f-fe99-003bb9a269a7"
      },
      "execution_count": null,
      "outputs": [
        {
          "output_type": "execute_result",
          "data": {
            "text/plain": [
              "['comm158', 'Colab Notebooks', 'PythonForSocialScience']"
            ]
          },
          "metadata": {},
          "execution_count": 8
        }
      ]
    },
    {
      "cell_type": "markdown",
      "source": [
        "7. Choose a name for your course folder and assign it to a variable\n",
        "(observe good naming practice, e.g. no blank space)\n",
        "8. Assemble the full path to this course folder and assign it to a variable.\n",
        "9. Make the course folder directory using `os.makedirs()`. Use the `exist_ok = True` statement so that you only create the directory if it does not exist, while do nothing if it already exists."
      ],
      "metadata": {
        "id": "tN3RfR7RynVa"
      }
    },
    {
      "cell_type": "code",
      "source": [
        "courseName=\"PythonForSocialScience\"\n",
        "courseDir=os.path.join(driveDir, courseName)\n",
        "os.makedirs(courseDir, exist_ok=True)\n",
        "os.listdir(driveDir)"
      ],
      "metadata": {
        "id": "9eiR5lK70Tmo",
        "colab": {
          "base_uri": "https://localhost:8080/"
        },
        "outputId": "3d30e8d8-0f0a-4ea8-bee7-3d12c0b0ccfb"
      },
      "execution_count": null,
      "outputs": [
        {
          "output_type": "execute_result",
          "data": {
            "text/plain": [
              "['comm158', 'Colab Notebooks', 'PythonForSocialScience']"
            ]
          },
          "metadata": {},
          "execution_count": 19
        }
      ]
    },
    {
      "cell_type": "markdown",
      "source": [
        "10. Create a new folder named \"assignment2\" inside the course folder.\n",
        "11. Print items within the course folder to verify its creation"
      ],
      "metadata": {
        "id": "trM3ib8s0TIg"
      }
    },
    {
      "cell_type": "code",
      "source": [
        "assignmentName=\"assignment2\"\n",
        "assignmentDir=os.path.join(courseDir, assignmentName)\n",
        "os.makedirs(assignmentDir, exist_ok=True)\n",
        "os.listdir(courseDir)"
      ],
      "metadata": {
        "id": "mYNerNsP2SeC",
        "colab": {
          "base_uri": "https://localhost:8080/"
        },
        "outputId": "ec8b39c3-7516-4027-9560-e80b37f7ab0a"
      },
      "execution_count": null,
      "outputs": [
        {
          "output_type": "execute_result",
          "data": {
            "text/plain": [
              "['assignment2']"
            ]
          },
          "metadata": {},
          "execution_count": 10
        }
      ]
    },
    {
      "cell_type": "markdown",
      "source": [
        "\n",
        "12. Change the working directory to your \"assignment2\" folder\n",
        "\n",
        "13. Print out your current working directory to confirm\n",
        "\n"
      ],
      "metadata": {
        "id": "mFMG_TbC0yne"
      }
    },
    {
      "cell_type": "code",
      "source": [
        "os.chdir(assignmentDir)\n",
        "print(os.getcwd())"
      ],
      "metadata": {
        "id": "7lbJzWL42Tk-",
        "colab": {
          "base_uri": "https://localhost:8080/"
        },
        "outputId": "68df3a00-c851-416d-b335-fb8a8856cc91"
      },
      "execution_count": null,
      "outputs": [
        {
          "output_type": "stream",
          "name": "stdout",
          "text": [
            "/content/drive/MyDrive/PythonForSocialScience/assignment2\n"
          ]
        }
      ]
    },
    {
      "cell_type": "markdown",
      "source": [
        "14. Create a \"data\" folder within \"assignment2\" and verify its creation"
      ],
      "metadata": {
        "id": "6rLgdqQ72Q5V"
      }
    },
    {
      "cell_type": "code",
      "source": [
        "dataName=\"data\"\n",
        "dataDir=os.path.join(assignmentDir, dataName)\n",
        "os.makedirs(dataDir, exist_ok=True)\n",
        "os.listdir()"
      ],
      "metadata": {
        "id": "aUy9UbSd30xJ",
        "colab": {
          "base_uri": "https://localhost:8080/"
        },
        "outputId": "61ab5f7c-9592-4071-a696-b0e22dd28e26"
      },
      "execution_count": null,
      "outputs": [
        {
          "output_type": "execute_result",
          "data": {
            "text/plain": [
              "['Replace this string with the path where you want to save the essays.',\n",
              " 'data']"
            ]
          },
          "metadata": {},
          "execution_count": 20
        }
      ]
    },
    {
      "cell_type": "markdown",
      "source": [
        "15. Download the roster using the gdown library and save it as a .txt file in the \"data\" folder with an informative file name. Link: https://drive.google.com/file/d/1AD3ey3mnvfIBppjgxqC2uQiTCfBFXXci/view?usp=share_link\n",
        "16. Verify the roster file has been successfully saved into your \"data\" folder using `os.path.isfile()`"
      ],
      "metadata": {
        "id": "UXUW1VfJpOwR"
      }
    },
    {
      "cell_type": "code",
      "source": [
        "import gdown\n",
        "rosterRaw=\"https://drive.google.com/file/d/1AD3ey3mnvfIBppjgxqC2uQiTCfBFXXci/view?usp=share_link\"\n",
        "rosterName = os.path.join(dataDir, \"roster.txt\")\n",
        "gdown.download(rosterRaw, rosterName, quiet=False, fuzzy=True)\n",
        "os.path.isfile(rosterName)"
      ],
      "metadata": {
        "id": "K4YVA4BQp6W2",
        "colab": {
          "base_uri": "https://localhost:8080/"
        },
        "outputId": "f4297e59-16a4-4520-f61c-6cd0839aa833"
      },
      "execution_count": null,
      "outputs": [
        {
          "output_type": "stream",
          "name": "stderr",
          "text": [
            "Downloading...\n",
            "From: https://drive.google.com/uc?id=1AD3ey3mnvfIBppjgxqC2uQiTCfBFXXci\n",
            "To: /content/drive/MyDrive/PythonForSocialScience/assignment2/data/roster.txt\n",
            "100%|██████████| 154/154 [00:00<00:00, 400kB/s]\n"
          ]
        },
        {
          "output_type": "execute_result",
          "data": {
            "text/plain": [
              "True"
            ]
          },
          "metadata": {},
          "execution_count": 17
        }
      ]
    },
    {
      "cell_type": "markdown",
      "source": [
        "17. Read the entire content of the .txt file and assign it to a string variable. Print the string to verify that the roster names are visible."
      ],
      "metadata": {
        "id": "uvZDV9Eo30LO"
      }
    },
    {
      "cell_type": "code",
      "source": [
        "with open(rosterName, \"r\") as rosterFile:\n",
        "  rosterContent=rosterFile.read()\n",
        "\n",
        "print(rosterContent)"
      ],
      "metadata": {
        "id": "49Z-3fwS4Qpo",
        "colab": {
          "base_uri": "https://localhost:8080/"
        },
        "outputId": "a12b28f0-153c-449f-df7c-54f643b74f3a"
      },
      "execution_count": null,
      "outputs": [
        {
          "output_type": "stream",
          "name": "stdout",
          "text": [
            "1.John Kim\n",
            "2.Mary Patel\n",
            "3.Michael Nguyen\n",
            "4.Jennifer Garcia\n",
            "5.David Singh\n",
            "6.Linda Chen\n",
            "7.James Lopez\n",
            "8.Patricia Khan\n",
            "9.Robert Yamamoto\n",
            "10.Elizabeth Ibrahim\n"
          ]
        }
      ]
    },
    {
      "cell_type": "markdown",
      "source": [
        "18. Split the string varibale that contains the entire .txt file into a list variable, where each line converts to one item in the list. Name the list meaningfully and print its content.\n",
        "\n",
        "\n",
        "\n"
      ],
      "metadata": {
        "id": "ywgW-ToG4Oab"
      }
    },
    {
      "cell_type": "code",
      "source": [
        "lines=rosterContent.splitlines()\n",
        "print(lines)"
      ],
      "metadata": {
        "id": "XjWtQLQG47oy",
        "colab": {
          "base_uri": "https://localhost:8080/"
        },
        "outputId": "7cab7a05-0899-4038-ca7d-e2db8c79a30e"
      },
      "execution_count": null,
      "outputs": [
        {
          "output_type": "stream",
          "name": "stdout",
          "text": [
            "['1.John Kim', '2.Mary Patel', '3.Michael Nguyen', '4.Jennifer Garcia', '5.David Singh', '6.Linda Chen', '7.James Lopez', '8.Patricia Khan', '9.Robert Yamamoto', '10.Elizabeth Ibrahim']\n"
          ]
        }
      ]
    },
    {
      "cell_type": "markdown",
      "source": [
        "19. Retrieve the fifth line from the list of lines and store it in a string variable with a meaningful name. Print the variable to confirm that it corresponds to the name of the fifth student in the roster."
      ],
      "metadata": {
        "id": "C9Do8VfI46z3"
      }
    },
    {
      "cell_type": "code",
      "source": [
        "line5=lines[4]\n",
        "print(line5)"
      ],
      "metadata": {
        "id": "qqMhLfPj5eZC",
        "colab": {
          "base_uri": "https://localhost:8080/"
        },
        "outputId": "5fba1fc5-598c-49f2-ce62-6469b26d7eac"
      },
      "execution_count": null,
      "outputs": [
        {
          "output_type": "stream",
          "name": "stdout",
          "text": [
            "5.David Singh\n"
          ]
        }
      ]
    },
    {
      "cell_type": "markdown",
      "source": [
        "20. Process the string of the fifth line to extract the last name, and print the result to verify."
      ],
      "metadata": {
        "id": "N4PCxiCetrj-"
      }
    },
    {
      "cell_type": "code",
      "source": [
        "parts5=line5.split()\n",
        "lastName5=parts5[-1]\n",
        "print(lastName5)"
      ],
      "metadata": {
        "colab": {
          "base_uri": "https://localhost:8080/"
        },
        "id": "6xTZnljLgG7f",
        "outputId": "da9aaefd-de19-4c8e-fbf4-4fc55bd99864"
      },
      "execution_count": null,
      "outputs": [
        {
          "output_type": "stream",
          "name": "stdout",
          "text": [
            "Singh\n"
          ]
        }
      ]
    },
    {
      "cell_type": "markdown",
      "source": [
        "21. Create a result folder within assignment2 (avoid writing down full path manully). Confirm that the folder has been successfully created.\n",
        "\n",
        "\n"
      ],
      "metadata": {
        "id": "HJ5ITZqu5QsS"
      }
    },
    {
      "cell_type": "code",
      "source": [
        "resultName=\"result\"\n",
        "resultDir=os.path.join(assignmentDir, resultName)\n",
        "os.makedirs(resultDir, exist_ok=True)\n",
        "os.listdir(assignmentDir)"
      ],
      "metadata": {
        "id": "OnBGGFgL66ep",
        "colab": {
          "base_uri": "https://localhost:8080/"
        },
        "outputId": "1fcc02a1-debe-440b-abc1-867593700bc7"
      },
      "execution_count": null,
      "outputs": [
        {
          "output_type": "execute_result",
          "data": {
            "text/plain": [
              "['Replace this string with the path where you want to save the essays.',\n",
              " 'data',\n",
              " 'result']"
            ]
          },
          "metadata": {},
          "execution_count": 31
        }
      ]
    },
    {
      "cell_type": "markdown",
      "source": [
        "22. Within the result folder, create a new folder named after the last name of the fifth student. (Note: You should avoid manually typing the student’s name; instead, use the variable extracted from the fifth line of the roster.)"
      ],
      "metadata": {
        "id": "n_ff_XFY67CU"
      }
    },
    {
      "cell_type": "code",
      "source": [
        "nameFolder=lastName5\n",
        "nameDir=os.path.join(resultDir, nameFolder)\n",
        "os.makedirs(nameDir, exist_ok=True)\n",
        "os.listdir(resultDir)"
      ],
      "metadata": {
        "id": "mgL1ZCyl77K2",
        "colab": {
          "base_uri": "https://localhost:8080/"
        },
        "outputId": "79b46d23-60fe-4b24-e5ff-55e0da9fead8"
      },
      "execution_count": null,
      "outputs": [
        {
          "output_type": "execute_result",
          "data": {
            "text/plain": [
              "['Singh']"
            ]
          },
          "metadata": {},
          "execution_count": 30
        }
      ]
    },
    {
      "cell_type": "markdown",
      "source": [
        "23. Verify that the student folder has been successfully created."
      ],
      "metadata": {
        "id": "2K6GYoH-unGh"
      }
    },
    {
      "cell_type": "code",
      "source": [
        "os.listdir(resultDir)"
      ],
      "metadata": {
        "id": "k5Rz8CspwIdU",
        "colab": {
          "base_uri": "https://localhost:8080/"
        },
        "outputId": "03ecc4f7-5909-407a-c0ea-7d6bb2fb4758"
      },
      "execution_count": null,
      "outputs": [
        {
          "output_type": "execute_result",
          "data": {
            "text/plain": [
              "['Singh']"
            ]
          },
          "metadata": {},
          "execution_count": 32
        }
      ]
    },
    {
      "cell_type": "markdown",
      "source": [
        "24. Repeat the above steps using a for-loop to create a folder within the result folder for each student in the roster. Print out the items within the result folder to confirm them. (Tip: leverage the `exist_ok = True` statement within the `os.makedirs()` function to avoid duplication errors)"
      ],
      "metadata": {
        "id": "TLyqINo8wMID"
      }
    },
    {
      "cell_type": "code",
      "source": [
        "for eachLine in lines:\n",
        "  parts=eachLine.split()\n",
        "  lastName=parts[-1]\n",
        "  lastnameDir=os.path.join(resultDir, lastName)\n",
        "  os.makedirs(lastnameDir, exist_ok=True)\n",
        "\n",
        "os.listdir(resultDir)"
      ],
      "metadata": {
        "id": "9a6MdY2Jwl7n",
        "colab": {
          "base_uri": "https://localhost:8080/"
        },
        "outputId": "81e4c13b-4791-4bb1-972c-888dcb629dba"
      },
      "execution_count": null,
      "outputs": [
        {
          "output_type": "execute_result",
          "data": {
            "text/plain": [
              "['Singh',\n",
              " 'Kim',\n",
              " 'Patel',\n",
              " 'Nguyen',\n",
              " 'Garcia',\n",
              " 'Chen',\n",
              " 'Lopez',\n",
              " 'Khan',\n",
              " 'Yamamoto',\n",
              " 'Ibrahim']"
            ]
          },
          "metadata": {},
          "execution_count": 34
        }
      ]
    },
    {
      "cell_type": "markdown",
      "source": [
        "**Optional**:\n",
        "A shared Google Drive folder contains essays written by each student in the roster. Your task is to download these essays to your own Google Drive, save them in your “data” folder, and then move each essay into the corresponding student’s individual folder (e.g., Alice’s essay should be placed in the Alice folder)."
      ],
      "metadata": {
        "id": "fBDoRujUvTFt"
      }
    },
    {
      "cell_type": "markdown",
      "source": [
        "1. Define where you want to save the essays"
      ],
      "metadata": {
        "id": "x1-O5StJxqAa"
      }
    },
    {
      "cell_type": "code",
      "source": [
        "downloadDir = \"Replace this string with the path where you want to save the essays.\""
      ],
      "metadata": {
        "id": "YdTbW8aAxzb9"
      },
      "execution_count": null,
      "outputs": []
    },
    {
      "cell_type": "code",
      "source": [
        "#folderId containing all student essays\n",
        "folderId = '1eWdqGmn3JQOuFX41-_JdkaVtzoje8uum'\n",
        "\n",
        "# Download the folder content to the specified directory\n",
        "!gdown --folder \"{folderId}\" -O \"{downloadDir}\"\n",
        "\n",
        "print(f\"Folder content downloaded to: {downloadDir}\")"
      ],
      "metadata": {
        "id": "_VupEOPZxHdv",
        "colab": {
          "base_uri": "https://localhost:8080/"
        },
        "outputId": "3580e573-220c-4c70-c6df-836c431c71b0"
      },
      "execution_count": null,
      "outputs": [
        {
          "output_type": "stream",
          "name": "stdout",
          "text": [
            "Retrieving folder contents\n",
            "Processing file 1f8Z-0xfwQzNH56z1cb13kHEHA0ILyxNW David Singh.txt\n",
            "Processing file 1N_V-VUpjckxxA8VPWpZjJSNSIwYzn6mg Elizabeth Ibrahim.txt\n",
            "Processing file 1MSlbdqdtY8JFam2WoxMfXxLtFDyo4uHO James Lopez.txt\n",
            "Processing file 1VTE99dBSRPi-VcSVDnh3UeUlVCmuycaC Jennifer Garcia.txt\n",
            "Processing file 1ndauAinj_PpFKdAovVhyjHfOA-uqjIZc John Kim.txt\n",
            "Processing file 1Uafs_oF3zTKeiTFEhddXrAZ1D_pGiuvV Linda Chen.txt\n",
            "Processing file 1A4o3t5JVuB_3jKisHwx4iJjc2nUImqBK Mary Patel.txt\n",
            "Processing file 1E6lKtRmknczn3TK6owiWxeRSIF3W_IS_ Michael Nguyen.txt\n",
            "Processing file 1HghUZxvPNCMMDz5Z-z4lis7-cxcD8ndw Patricia Khan.txt\n",
            "Processing file 1mcYf4ehcVFd1gMWpZk3Jqx8JHhKLq6ap Robert Yamamoto.txt\n",
            "Retrieving folder contents completed\n",
            "Building directory structure\n",
            "Building directory structure completed\n",
            "Downloading...\n",
            "From: https://drive.google.com/uc?id=1f8Z-0xfwQzNH56z1cb13kHEHA0ILyxNW\n",
            "To: /content/drive/MyDrive/PythonForSocialScience/assignment2/Replace this string with the path where you want to save the essays./David Singh.txt\n",
            "100% 3.76k/3.76k [00:00<00:00, 11.2MB/s]\n",
            "Downloading...\n",
            "From: https://drive.google.com/uc?id=1N_V-VUpjckxxA8VPWpZjJSNSIwYzn6mg\n",
            "To: /content/drive/MyDrive/PythonForSocialScience/assignment2/Replace this string with the path where you want to save the essays./Elizabeth Ibrahim.txt\n",
            "100% 5.01k/5.01k [00:00<00:00, 14.6MB/s]\n",
            "Downloading...\n",
            "From: https://drive.google.com/uc?id=1MSlbdqdtY8JFam2WoxMfXxLtFDyo4uHO\n",
            "To: /content/drive/MyDrive/PythonForSocialScience/assignment2/Replace this string with the path where you want to save the essays./James Lopez.txt\n",
            "100% 3.51k/3.51k [00:00<00:00, 11.1MB/s]\n",
            "Downloading...\n",
            "From: https://drive.google.com/uc?id=1VTE99dBSRPi-VcSVDnh3UeUlVCmuycaC\n",
            "To: /content/drive/MyDrive/PythonForSocialScience/assignment2/Replace this string with the path where you want to save the essays./Jennifer Garcia.txt\n",
            "100% 4.25k/4.25k [00:00<00:00, 12.5MB/s]\n",
            "Downloading...\n",
            "From: https://drive.google.com/uc?id=1ndauAinj_PpFKdAovVhyjHfOA-uqjIZc\n",
            "To: /content/drive/MyDrive/PythonForSocialScience/assignment2/Replace this string with the path where you want to save the essays./John Kim.txt\n",
            "100% 3.63k/3.63k [00:00<00:00, 11.4MB/s]\n",
            "Downloading...\n",
            "From: https://drive.google.com/uc?id=1Uafs_oF3zTKeiTFEhddXrAZ1D_pGiuvV\n",
            "To: /content/drive/MyDrive/PythonForSocialScience/assignment2/Replace this string with the path where you want to save the essays./Linda Chen.txt\n",
            "100% 3.78k/3.78k [00:00<00:00, 10.6MB/s]\n",
            "Downloading...\n",
            "From: https://drive.google.com/uc?id=1A4o3t5JVuB_3jKisHwx4iJjc2nUImqBK\n",
            "To: /content/drive/MyDrive/PythonForSocialScience/assignment2/Replace this string with the path where you want to save the essays./Mary Patel.txt\n",
            "100% 4.59k/4.59k [00:00<00:00, 10.5MB/s]\n",
            "Downloading...\n",
            "From: https://drive.google.com/uc?id=1E6lKtRmknczn3TK6owiWxeRSIF3W_IS_\n",
            "To: /content/drive/MyDrive/PythonForSocialScience/assignment2/Replace this string with the path where you want to save the essays./Michael Nguyen.txt\n",
            "100% 4.91k/4.91k [00:00<00:00, 10.4MB/s]\n",
            "Downloading...\n",
            "From: https://drive.google.com/uc?id=1HghUZxvPNCMMDz5Z-z4lis7-cxcD8ndw\n",
            "To: /content/drive/MyDrive/PythonForSocialScience/assignment2/Replace this string with the path where you want to save the essays./Patricia Khan.txt\n",
            "100% 3.69k/3.69k [00:00<00:00, 10.4MB/s]\n",
            "Downloading...\n",
            "From: https://drive.google.com/uc?id=1mcYf4ehcVFd1gMWpZk3Jqx8JHhKLq6ap\n",
            "To: /content/drive/MyDrive/PythonForSocialScience/assignment2/Replace this string with the path where you want to save the essays./Robert Yamamoto.txt\n",
            "100% 4.42k/4.42k [00:00<00:00, 18.4MB/s]\n",
            "Download completed\n",
            "Folder content downloaded to: Replace this string with the path where you want to save the essays.\n"
          ]
        }
      ]
    },
    {
      "cell_type": "markdown",
      "source": [
        "2. Complete the remaining part of the code and provide proof that the essays have been placed in the correct folders."
      ],
      "metadata": {
        "id": "0PyubNAAy94B"
      }
    },
    {
      "cell_type": "code",
      "source": [],
      "metadata": {
        "id": "Eo-T912KzUAq"
      },
      "execution_count": null,
      "outputs": []
    }
  ]
}