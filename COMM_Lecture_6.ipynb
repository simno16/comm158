{
  "nbformat": 4,
  "nbformat_minor": 0,
  "metadata": {
    "colab": {
      "provenance": []
    },
    "kernelspec": {
      "name": "python3",
      "display_name": "Python 3"
    },
    "language_info": {
      "name": "python"
    }
  },
  "cells": [
    {
      "cell_type": "code",
      "execution_count": null,
      "metadata": {
        "colab": {
          "base_uri": "https://localhost:8080/"
        },
        "id": "oBUTkhtSxsL-",
        "outputId": "42e8675a-dcbe-4b18-e320-70e4088ce842"
      },
      "outputs": [
        {
          "output_type": "stream",
          "name": "stdout",
          "text": [
            "2\n"
          ]
        }
      ],
      "source": [
        "i=1\n",
        "i=i+1\n",
        "print(i)"
      ]
    },
    {
      "cell_type": "code",
      "source": [
        "i=1\n",
        "i+=1\n",
        "print(i)"
      ],
      "metadata": {
        "colab": {
          "base_uri": "https://localhost:8080/"
        },
        "id": "SgvbZhQUzLr_",
        "outputId": "62554ae9-e0d9-4dcb-e9dd-d51aa0e1d161"
      },
      "execution_count": null,
      "outputs": [
        {
          "output_type": "stream",
          "name": "stdout",
          "text": [
            "2\n"
          ]
        }
      ]
    },
    {
      "cell_type": "code",
      "source": [
        "for n in range(5):\n",
        "  print(n)"
      ],
      "metadata": {
        "colab": {
          "base_uri": "https://localhost:8080/"
        },
        "id": "CEF0QsG20sZR",
        "outputId": "0bd7a929-a486-4932-dc54-99d965c044b7"
      },
      "execution_count": null,
      "outputs": [
        {
          "output_type": "stream",
          "name": "stdout",
          "text": [
            "0\n",
            "1\n",
            "2\n",
            "3\n",
            "4\n"
          ]
        }
      ]
    },
    {
      "cell_type": "code",
      "source": [
        "for n in range(-3, 3):\n",
        "  print(n)\n",
        "#for most part in python, in any sequence, start number will likely be included, end number will not"
      ],
      "metadata": {
        "colab": {
          "base_uri": "https://localhost:8080/"
        },
        "id": "bGSwszjQ1YOM",
        "outputId": "cda1151e-dee6-4517-9498-d6927fb09585"
      },
      "execution_count": null,
      "outputs": [
        {
          "output_type": "stream",
          "name": "stdout",
          "text": [
            "-3\n",
            "-2\n",
            "-1\n",
            "0\n",
            "1\n",
            "2\n"
          ]
        }
      ]
    },
    {
      "cell_type": "code",
      "source": [
        "for i in range(10, 1, -2): #range(start, end, interval)\n",
        "  print(i)"
      ],
      "metadata": {
        "colab": {
          "base_uri": "https://localhost:8080/"
        },
        "id": "X4es9nFp2KrB",
        "outputId": "91f49871-2f0e-4122-ed54-3551de20adbf"
      },
      "execution_count": null,
      "outputs": [
        {
          "output_type": "stream",
          "name": "stdout",
          "text": [
            "10\n",
            "8\n",
            "6\n",
            "4\n",
            "2\n"
          ]
        }
      ]
    },
    {
      "cell_type": "code",
      "source": [
        "largeIterable=range(1, pow(10, 15))\n",
        "print(largeIterable)\n",
        "#lazy evaluation, delay computation until needed, does not generate all numbers unless prompted to save performance and memory\n",
        "#don't run:\n",
        "#largeList=list(largeIterable)"
      ],
      "metadata": {
        "colab": {
          "base_uri": "https://localhost:8080/"
        },
        "id": "kCtNilho2m8Z",
        "outputId": "e76522b9-48b4-412f-8c7a-452f944cd96a"
      },
      "execution_count": null,
      "outputs": [
        {
          "output_type": "stream",
          "name": "stdout",
          "text": [
            "range(1, 1000000000000000)\n"
          ]
        }
      ]
    },
    {
      "cell_type": "code",
      "source": [
        "#sum of 1 to 9\n",
        "total=0\n",
        "for i in range(1, 10):\n",
        "  total=total+i\n",
        "print(total)"
      ],
      "metadata": {
        "colab": {
          "base_uri": "https://localhost:8080/"
        },
        "id": "2zxe2DxV3bDR",
        "outputId": "f2e0a951-7044-469f-d89c-c876603a18cd"
      },
      "execution_count": null,
      "outputs": [
        {
          "output_type": "stream",
          "name": "stdout",
          "text": [
            "45\n"
          ]
        }
      ]
    },
    {
      "cell_type": "code",
      "source": [
        "numberList=list(range(1, 10))\n",
        "total=sum(numberList)\n",
        "print(total)\n",
        "#the pythonic way: for any interation, use range and not list"
      ],
      "metadata": {
        "colab": {
          "base_uri": "https://localhost:8080/"
        },
        "id": "SYBw4OXt4Uxf",
        "outputId": "98344b3f-436c-480d-faba-10e735021a11"
      },
      "execution_count": null,
      "outputs": [
        {
          "output_type": "stream",
          "name": "stdout",
          "text": [
            "45\n"
          ]
        }
      ]
    },
    {
      "cell_type": "code",
      "source": [
        "names=[\"Alice\", \"Charlie\", \"Bob\", \"Adam\"]"
      ],
      "metadata": {
        "id": "vfQIbG2gzbpD"
      },
      "execution_count": null,
      "outputs": []
    },
    {
      "cell_type": "code",
      "source": [
        "for i in range(4):\n",
        "  oneName=names[i]\n",
        "  print(oneName)"
      ],
      "metadata": {
        "colab": {
          "base_uri": "https://localhost:8080/"
        },
        "id": "UAPlNsCA5p2O",
        "outputId": "51a84fa0-ac56-4355-cea0-364d8756c5a8"
      },
      "execution_count": null,
      "outputs": [
        {
          "output_type": "stream",
          "name": "stdout",
          "text": [
            "Alice\n",
            "Charlie\n",
            "Bob\n",
            "Adam\n"
          ]
        }
      ]
    },
    {
      "cell_type": "code",
      "source": [
        "for i in range(len(names)): #scalability\n",
        "  oneName=names[i]\n",
        "  print(oneName)"
      ],
      "metadata": {
        "colab": {
          "base_uri": "https://localhost:8080/"
        },
        "id": "i-FUs7bD6JOT",
        "outputId": "f519ed9b-cbbc-4e0d-d50b-b431591614b9"
      },
      "execution_count": null,
      "outputs": [
        {
          "output_type": "stream",
          "name": "stdout",
          "text": [
            "Alice\n",
            "Charlie\n",
            "Bob\n",
            "Adam\n"
          ]
        }
      ]
    },
    {
      "cell_type": "code",
      "source": [
        "for eachName in names: #simplicity: FOR every item IN names, print it\n",
        "  print(eachName)\n",
        "#better code for just a list"
      ],
      "metadata": {
        "colab": {
          "base_uri": "https://localhost:8080/"
        },
        "id": "AGw4NggG6hwl",
        "outputId": "555fbe54-ca84-46d3-f8a8-f0069d96d38e"
      },
      "execution_count": null,
      "outputs": [
        {
          "output_type": "stream",
          "name": "stdout",
          "text": [
            "Alice\n",
            "Charlie\n",
            "Bob\n",
            "Adam\n"
          ]
        }
      ]
    },
    {
      "cell_type": "code",
      "source": [
        "rosterLines=[\"1. John Doe\", \"2, Mary Sue\", \"3. Eva Smith\"]"
      ],
      "metadata": {
        "id": "ZQRwP5M37oUK"
      },
      "execution_count": null,
      "outputs": []
    },
    {
      "cell_type": "code",
      "source": [
        "for oneLine in rosterLines:\n",
        "  parts=oneLine.split()\n",
        "  lastName=parts[-1]\n",
        "  print(lastName)"
      ],
      "metadata": {
        "colab": {
          "base_uri": "https://localhost:8080/"
        },
        "id": "AQ3EMu3-8LGa",
        "outputId": "d647a0e3-512f-4515-9153-77e1d7b98728"
      },
      "execution_count": null,
      "outputs": [
        {
          "output_type": "stream",
          "name": "stdout",
          "text": [
            "Doe\n",
            "Sue\n",
            "Smith\n"
          ]
        }
      ]
    },
    {
      "cell_type": "code",
      "source": [
        "roster=[] #empty list\n",
        "roster"
      ],
      "metadata": {
        "colab": {
          "base_uri": "https://localhost:8080/"
        },
        "id": "CO1Su4Ae9dyC",
        "outputId": "09dc4a54-9523-4b9c-cf8f-40178f316c09"
      },
      "execution_count": null,
      "outputs": [
        {
          "output_type": "execute_result",
          "data": {
            "text/plain": [
              "[]"
            ]
          },
          "metadata": {},
          "execution_count": 33
        }
      ]
    },
    {
      "cell_type": "code",
      "source": [
        "len(roster)"
      ],
      "metadata": {
        "colab": {
          "base_uri": "https://localhost:8080/"
        },
        "id": "d9w89dO99jxn",
        "outputId": "7c350048-c697-46b8-b44d-453e93173b35"
      },
      "execution_count": null,
      "outputs": [
        {
          "output_type": "execute_result",
          "data": {
            "text/plain": [
              "3"
            ]
          },
          "metadata": {},
          "execution_count": 32
        }
      ]
    },
    {
      "cell_type": "code",
      "source": [
        "roster.append(\"Alice\")\n",
        "roster"
      ],
      "metadata": {
        "colab": {
          "base_uri": "https://localhost:8080/"
        },
        "id": "01F09tEI9m9x",
        "outputId": "3eef9d2c-aaef-4583-c708-88ad8a280b29"
      },
      "execution_count": null,
      "outputs": [
        {
          "output_type": "execute_result",
          "data": {
            "text/plain": [
              "['Alice']"
            ]
          },
          "metadata": {},
          "execution_count": 34
        }
      ]
    },
    {
      "cell_type": "code",
      "source": [
        "roster.append(\"Bob\") #adds item at end of list\n",
        "roster"
      ],
      "metadata": {
        "colab": {
          "base_uri": "https://localhost:8080/"
        },
        "id": "aplmtgQa9siU",
        "outputId": "efba96ca-bfcb-443d-ff25-d0c7cb1687e9"
      },
      "execution_count": null,
      "outputs": [
        {
          "output_type": "execute_result",
          "data": {
            "text/plain": [
              "['Alice', 'Bob']"
            ]
          },
          "metadata": {},
          "execution_count": 35
        }
      ]
    },
    {
      "cell_type": "code",
      "source": [
        "lastNames=[]\n",
        "for line in rosterLines:\n",
        "  parts=line.split()\n",
        "  lastNames.append(parts[-1])\n",
        "lastNames"
      ],
      "metadata": {
        "colab": {
          "base_uri": "https://localhost:8080/"
        },
        "id": "-qzrdEOz93xE",
        "outputId": "2f35b16b-bb29-4f11-ee68-55a3c579b26b"
      },
      "execution_count": null,
      "outputs": [
        {
          "output_type": "execute_result",
          "data": {
            "text/plain": [
              "['Doe', 'Sue', 'Smith']"
            ]
          },
          "metadata": {},
          "execution_count": 50
        }
      ]
    },
    {
      "cell_type": "code",
      "source": [
        "#define function\n",
        "def getLastName(line):\n",
        "  parts=line.split()\n",
        "  name=parts[-1]\n",
        "  return name"
      ],
      "metadata": {
        "id": "8XYj6lJn_xHn"
      },
      "execution_count": null,
      "outputs": []
    },
    {
      "cell_type": "code",
      "source": [
        "#call function\n",
        "lastNames=[]\n",
        "for oneLine in rosterLines:\n",
        "  lineLastName=getLastName(oneLine)\n",
        "  lastNames.append(lineLastName)\n",
        "lastNames"
      ],
      "metadata": {
        "colab": {
          "base_uri": "https://localhost:8080/"
        },
        "id": "uikllx62AwoM",
        "outputId": "7c680671-8468-45f9-b4a4-a4a5cd63839c"
      },
      "execution_count": null,
      "outputs": [
        {
          "output_type": "execute_result",
          "data": {
            "text/plain": [
              "['Doe', 'Sue', 'Smith']"
            ]
          },
          "metadata": {},
          "execution_count": 46
        }
      ]
    },
    {
      "cell_type": "code",
      "source": [
        "import os\n",
        "def createLastName(lastName, parentDir):\n",
        "  fullPath=os.path.join(parentDir, lastName)\n",
        "  os.makedirs(fullPath, exist_ok=True)\n",
        "  print(\"created\", (fullPath))"
      ],
      "metadata": {
        "id": "VMcauaW0CUpZ"
      },
      "execution_count": null,
      "outputs": []
    },
    {
      "cell_type": "code",
      "source": [
        "lastNames=[]\n",
        "studentFolders=[]\n",
        "dataDir=\"sample_data\"\n",
        "for oneLine in rosterLines:\n",
        "  lineLastName=getLastName(oneLine)\n",
        "  lastNames.append(lineLastName)\n",
        "  folderPath=createLastName(lineLastName, dataDir)\n",
        "  studentFolders.append(folderPath)"
      ],
      "metadata": {
        "colab": {
          "base_uri": "https://localhost:8080/"
        },
        "id": "37y0mmz-CtJo",
        "outputId": "381d27ca-d0ac-4448-f8fc-1db9ac8e1136"
      },
      "execution_count": null,
      "outputs": [
        {
          "output_type": "stream",
          "name": "stdout",
          "text": [
            "created sample_data/Doe\n",
            "created sample_data/Sue\n",
            "created sample_data/Smith\n"
          ]
        }
      ]
    },
    {
      "cell_type": "code",
      "source": [
        "def double(x):\n",
        "  result=x*2\n",
        "  return result"
      ],
      "metadata": {
        "id": "j-j__Tk9nizV"
      },
      "execution_count": null,
      "outputs": []
    },
    {
      "cell_type": "code",
      "source": [
        "x=10\n",
        "result=double(x)\n",
        "print(result)"
      ],
      "metadata": {
        "colab": {
          "base_uri": "https://localhost:8080/"
        },
        "id": "05HkDfg5nrdo",
        "outputId": "dbc8ad2f-cde5-47f0-ed33-021323a40efc"
      },
      "execution_count": null,
      "outputs": [
        {
          "output_type": "stream",
          "name": "stdout",
          "text": [
            "20\n"
          ]
        }
      ]
    },
    {
      "cell_type": "code",
      "source": [
        "double(10+40)"
      ],
      "metadata": {
        "colab": {
          "base_uri": "https://localhost:8080/"
        },
        "id": "x0e-gpm0nzvU",
        "outputId": "75edfe04-5921-4905-f48a-f105f922a66c"
      },
      "execution_count": null,
      "outputs": [
        {
          "output_type": "execute_result",
          "data": {
            "text/plain": [
              "100"
            ]
          },
          "metadata": {},
          "execution_count": 3
        }
      ]
    },
    {
      "cell_type": "code",
      "source": [
        "double(sum(range(10)))"
      ],
      "metadata": {
        "colab": {
          "base_uri": "https://localhost:8080/"
        },
        "id": "WWKSF8w8n6H4",
        "outputId": "0c219258-5302-48af-b4fa-8de47b3ea017"
      },
      "execution_count": null,
      "outputs": [
        {
          "output_type": "execute_result",
          "data": {
            "text/plain": [
              "90"
            ]
          },
          "metadata": {},
          "execution_count": 4
        }
      ]
    },
    {
      "cell_type": "code",
      "source": [
        "10*double(5)"
      ],
      "metadata": {
        "colab": {
          "base_uri": "https://localhost:8080/"
        },
        "id": "tbFzSjAloEya",
        "outputId": "8c775313-0928-4763-9fd2-da76a263abb6"
      },
      "execution_count": null,
      "outputs": [
        {
          "output_type": "execute_result",
          "data": {
            "text/plain": [
              "100"
            ]
          },
          "metadata": {},
          "execution_count": 5
        }
      ]
    },
    {
      "cell_type": "code",
      "source": [
        "def printDouble(x):\n",
        "  result=x*2\n",
        "  print(result) #better to use return tho"
      ],
      "metadata": {
        "id": "GLb9cpwHoJ3Q"
      },
      "execution_count": null,
      "outputs": []
    },
    {
      "cell_type": "code",
      "source": [
        "outcome=printDouble(10)\n",
        "print(f\"default ouctome of function is {outcome}\")\n",
        "type(outcome) #returns nonetype because function has no return command"
      ],
      "metadata": {
        "colab": {
          "base_uri": "https://localhost:8080/"
        },
        "id": "G3VAbOM-oRmD",
        "outputId": "141a2e15-39f1-455e-e5c0-503a25329ec5"
      },
      "execution_count": null,
      "outputs": [
        {
          "output_type": "stream",
          "name": "stdout",
          "text": [
            "20\n",
            "default ouctome of function is None\n"
          ]
        },
        {
          "output_type": "execute_result",
          "data": {
            "text/plain": [
              "NoneType"
            ]
          },
          "metadata": {},
          "execution_count": 8
        }
      ]
    },
    {
      "cell_type": "code",
      "source": [
        "outcome2=double(10)\n",
        "print(f\"default ouctome of function is {outcome2}\")\n",
        "type(outcome2) #returns int because function has return"
      ],
      "metadata": {
        "colab": {
          "base_uri": "https://localhost:8080/"
        },
        "id": "iKJgdFduoxpw",
        "outputId": "91d17864-8d7b-4f1f-b60c-0d27a51ffc67"
      },
      "execution_count": null,
      "outputs": [
        {
          "output_type": "stream",
          "name": "stdout",
          "text": [
            "default ouctome of function is 20\n"
          ]
        },
        {
          "output_type": "execute_result",
          "data": {
            "text/plain": [
              "int"
            ]
          },
          "metadata": {},
          "execution_count": 10
        }
      ]
    },
    {
      "cell_type": "code",
      "source": [
        "def power(base, exponent):\n",
        "  result=base**exponent\n",
        "  return result"
      ],
      "metadata": {
        "id": "7ODe2WIZpPbR"
      },
      "execution_count": null,
      "outputs": []
    },
    {
      "cell_type": "code",
      "source": [
        "power(2, 3)"
      ],
      "metadata": {
        "colab": {
          "base_uri": "https://localhost:8080/"
        },
        "id": "Rzxkpm1bpW8t",
        "outputId": "339aaa06-187d-4b79-b733-e73d541d61ab"
      },
      "execution_count": null,
      "outputs": [
        {
          "output_type": "execute_result",
          "data": {
            "text/plain": [
              "8"
            ]
          },
          "metadata": {},
          "execution_count": 12
        }
      ]
    },
    {
      "cell_type": "code",
      "source": [
        "power(3, 2)"
      ],
      "metadata": {
        "colab": {
          "base_uri": "https://localhost:8080/"
        },
        "id": "nybQ1j0mpcUM",
        "outputId": "05c71494-882d-4827-bc5d-461bd1d1f0dd"
      },
      "execution_count": null,
      "outputs": [
        {
          "output_type": "execute_result",
          "data": {
            "text/plain": [
              "9"
            ]
          },
          "metadata": {},
          "execution_count": 13
        }
      ]
    },
    {
      "cell_type": "code",
      "source": [
        "#sample data\n",
        "user1first=\"John\"\n",
        "user1last=\"Doe\"\n",
        "user2first=\"Jane\"\n",
        "user2last=\"\" #missing data\n",
        "user3first=\"William\"\n",
        "user3last=\"Smith\"\n",
        "\n",
        "#repeated logic for each user\n",
        "if user1last: #check if string is not empty\n",
        "  fullname1=user1first.capitalize()+\" \"+user1last.capitalize()\n",
        "else:\n",
        "  fullname1=user1first.capitalize()\n",
        "print(\"welcome\", fullname1)\n",
        "\n",
        "if user2last:\n",
        "  fullname1=user2first.capitalize()+\" \"+user2last.capitalize()\n",
        "else:\n",
        "  fullname1=user2first.capitalize()\n",
        "print(\"welcome\", fullname1)\n",
        "\n",
        "if user3last:\n",
        "  fullname1=user3first.capitalize()+\" \"+user3last.capitalize()\n",
        "else:\n",
        "  fullname1=user3first.capitalize()\n",
        "print(\"welcome\", fullname1)"
      ],
      "metadata": {
        "colab": {
          "base_uri": "https://localhost:8080/"
        },
        "id": "QCLGvREQppE7",
        "outputId": "76a4924e-321c-4985-bf7a-0936e550b0d0"
      },
      "execution_count": null,
      "outputs": [
        {
          "output_type": "stream",
          "name": "stdout",
          "text": [
            "welcome John Doe\n",
            "welcome Jane\n",
            "welcome William Smith\n"
          ]
        }
      ]
    },
    {
      "cell_type": "code",
      "source": [
        "def formatFullName(first, last):\n",
        "  if last:\n",
        "    fullName=first.capitalize()+\" \"+last.capitalize()\n",
        "  else:\n",
        "    fullName=first.capitalize()\n",
        "  return fullName\n",
        "\n",
        "print(\"welcome\", formatFullName(user1first, user1last))\n",
        "print(\"welcome\", formatFullName(user2first, user2last))\n",
        "print(\"welcome\", formatFullName(user3first, user3last))"
      ],
      "metadata": {
        "colab": {
          "base_uri": "https://localhost:8080/"
        },
        "id": "lUnSDfe1snzP",
        "outputId": "fd540366-bd38-44c0-dfbb-e0eec8adb238"
      },
      "execution_count": null,
      "outputs": [
        {
          "output_type": "stream",
          "name": "stdout",
          "text": [
            "welcome John Doe\n",
            "welcome Jane\n",
            "welcome William Smith\n"
          ]
        }
      ]
    },
    {
      "cell_type": "code",
      "source": [
        "userName=\"Bob\"\n",
        "timeOfDay=\"morning\"\n",
        "if timeOfDay==\"morning\":\n",
        "  greeting=\"Good morning \"+userName\n",
        "else:\n",
        "  greeting=\"hello \"+userName\n",
        "print(greeting)"
      ],
      "metadata": {
        "colab": {
          "base_uri": "https://localhost:8080/"
        },
        "id": "mKaOh0_MtSlj",
        "outputId": "5e6d46ff-05aa-4fc3-d393-131ede71a315"
      },
      "execution_count": null,
      "outputs": [
        {
          "output_type": "stream",
          "name": "stdout",
          "text": [
            "Good morning Bob\n"
          ]
        }
      ]
    },
    {
      "cell_type": "code",
      "source": [
        "def createGreeting(name, timeOfDay):\n",
        "  if timeOfDay==\"morning\":\n",
        "    greeting=\"Good morning \"+name\n",
        "  else:\n",
        "    greeting=\"hello \"+name\n",
        "  return greeting\n",
        "\n",
        "print(createGreeting(\"Liz\", \"morning\"))\n",
        "print(createGreeting(\"Leo\", \"afternoon\"))"
      ],
      "metadata": {
        "colab": {
          "base_uri": "https://localhost:8080/"
        },
        "id": "1ICHWzugt2T9",
        "outputId": "665f2c91-ea4b-4075-dc47-ef038a22d47b"
      },
      "execution_count": null,
      "outputs": [
        {
          "output_type": "stream",
          "name": "stdout",
          "text": [
            "Good morning Liz\n",
            "hello Leo\n"
          ]
        }
      ]
    },
    {
      "cell_type": "code",
      "source": [
        "nList=[1, 2, 3, 4]\n",
        "evenNumbers=[]\n",
        "\n",
        "for num in nList:\n",
        "  if num%2==0:\n",
        "    evenNumbers.append(num)\n",
        "  else:\n",
        "    pass\n",
        "print(evenNumbers)"
      ],
      "metadata": {
        "colab": {
          "base_uri": "https://localhost:8080/"
        },
        "id": "z6CcMSqcuZez",
        "outputId": "1e25159a-cf5d-4472-b11e-30b0895fd720"
      },
      "execution_count": null,
      "outputs": [
        {
          "output_type": "stream",
          "name": "stdout",
          "text": [
            "[2, 4]\n"
          ]
        }
      ]
    },
    {
      "cell_type": "code",
      "source": [
        "def getEvenNumber(nList):\n",
        "  evenNumbers=[]\n",
        "  for num in nList:\n",
        "    if num%2==0:\n",
        "      evenNumbers.append(num)\n",
        "    else:\n",
        "      pass\n",
        "  return evenNumbers\n",
        "\n",
        "print(getEvenNumber([1, 2, 3, 4]))"
      ],
      "metadata": {
        "colab": {
          "base_uri": "https://localhost:8080/"
        },
        "id": "e14zjtiNu4I8",
        "outputId": "6dd8b8f9-76cc-4c48-ae46-3dafc67bb778"
      },
      "execution_count": null,
      "outputs": [
        {
          "output_type": "stream",
          "name": "stdout",
          "text": [
            "[2, 4]\n"
          ]
        }
      ]
    }
  ]
}