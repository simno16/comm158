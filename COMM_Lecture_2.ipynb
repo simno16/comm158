{
  "nbformat": 4,
  "nbformat_minor": 0,
  "metadata": {
    "colab": {
      "provenance": []
    },
    "kernelspec": {
      "name": "python3",
      "display_name": "Python 3"
    },
    "language_info": {
      "name": "python"
    }
  },
  "cells": [
    {
      "cell_type": "code",
      "execution_count": null,
      "metadata": {
        "colab": {
          "base_uri": "https://localhost:8080/"
        },
        "id": "DPSbqiNv8a5Y",
        "outputId": "790901f3-2452-4a90-95c8-edab76de041b"
      },
      "outputs": [
        {
          "output_type": "stream",
          "name": "stdout",
          "text": [
            "Simon Lee is learning Python Programming\n",
            "SIMON LEE IS LEARNING PYTHON PROGRAMMING\n",
            "simon lee is learning python programming\n",
            "102\n"
          ]
        }
      ],
      "source": [
        "firstName=\"Simon\"\n",
        "lastName=\"Lee\"\n",
        "course=\"Python Programming\"\n",
        "example=\" \".join([firstName, lastName, \"is learning\", course])\n",
        "stringexample=\"0\".join([str(1), str(2)])\n",
        "alluppercase=example.upper()\n",
        "alllowercase=example.lower()\n",
        "print(example)\n",
        "print(alluppercase)\n",
        "print(alllowercase)\n",
        "print(stringexample)"
      ]
    },
    {
      "cell_type": "code",
      "source": [
        "nInt=10\n",
        "nFloat=10.2\n",
        "aString=\"Simon\"\n",
        "nOdd=[1, 3, 5, 7]\n",
        "total=sum(nodd)\n",
        "total2=nint+nfloat\n",
        "print(total, total2)"
      ],
      "metadata": {
        "colab": {
          "base_uri": "https://localhost:8080/"
        },
        "id": "OnKkdzIPAe81",
        "outputId": "1bec8460-20e1-40e1-9866-d4f7d3a75cff"
      },
      "execution_count": null,
      "outputs": [
        {
          "output_type": "stream",
          "name": "stdout",
          "text": [
            "16 20.2\n"
          ]
        }
      ]
    },
    {
      "cell_type": "code",
      "source": [
        "import time\n",
        "\n",
        "#get current time in a readable formate\n",
        "currentTime=time.ctime()\n",
        "print(\"execution time:\", currentTime)\n",
        "\n",
        "#save to file\n",
        "with open(\"execution-time-log.txt\", \"w\") as logFile:\n",
        "  logFile.write(currentTime) #write the data\n",
        "\n",
        "print(\"Data saved to log.txt\")"
      ],
      "metadata": {
        "colab": {
          "base_uri": "https://localhost:8080/"
        },
        "id": "py7Lv2FqGYyl",
        "outputId": "14084e2c-84c7-4a31-d0b3-97ae0caec06d"
      },
      "execution_count": null,
      "outputs": [
        {
          "output_type": "stream",
          "name": "stdout",
          "text": [
            "execution time: Wed Oct  1 18:54:34 2025\n",
            "Data saved to log.txt\n"
          ]
        },
        {
          "output_type": "execute_result",
          "data": {
            "text/plain": [
              "<_io.TextIOWrapper name='execution-time-log.txt' mode='w' encoding='utf-8'>"
            ]
          },
          "metadata": {},
          "execution_count": 3
        }
      ]
    },
    {
      "cell_type": "code",
      "metadata": {
        "colab": {
          "base_uri": "https://localhost:8080/"
        },
        "id": "5ef2a95a",
        "outputId": "f3fabe75-1da7-48bc-defc-75335511c4f8"
      },
      "source": [
        "# Open the file in read mode\n",
        "with open(\"execution-time-log.txt\", \"r\") as logFile:\n",
        "  file_content = logFile.read() # Read the content of the file\n",
        "\n",
        "# Print the content\n",
        "print(\"Content of execution-time-log.txt:\")\n",
        "print(file_content)"
      ],
      "execution_count": null,
      "outputs": [
        {
          "output_type": "stream",
          "name": "stdout",
          "text": [
            "Content of execution-time-log.txt:\n",
            "Wed Oct  1 18:54:34 2025\n"
          ]
        }
      ]
    },
    {
      "cell_type": "code",
      "source": [
        "#current working directory\n",
        "import os\n",
        "cwd=os.getcwd()\n",
        "print(cwd)\n",
        "\n",
        "os.listdir() #returns list of all file and folder name in directory"
      ],
      "metadata": {
        "colab": {
          "base_uri": "https://localhost:8080/"
        },
        "id": "LUtYqv2-LAEU",
        "outputId": "6e2a520c-c695-465a-f53b-a107ac1c3e0f"
      },
      "execution_count": null,
      "outputs": [
        {
          "output_type": "stream",
          "name": "stdout",
          "text": [
            "/content\n"
          ]
        },
        {
          "output_type": "execute_result",
          "data": {
            "text/plain": [
              "['.config', 'execution-time-log.txt', 'sample_data']"
            ]
          },
          "metadata": {},
          "execution_count": 7
        }
      ]
    }
  ]
}