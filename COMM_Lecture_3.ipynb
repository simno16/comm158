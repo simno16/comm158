{
  "nbformat": 4,
  "nbformat_minor": 0,
  "metadata": {
    "colab": {
      "provenance": [],
      "authorship_tag": "ABX9TyMt/hjHI03ls0MLO9TucMa2",
      "include_colab_link": true
    },
    "kernelspec": {
      "name": "python3",
      "display_name": "Python 3"
    },
    "language_info": {
      "name": "python"
    }
  },
  "cells": [
    {
      "cell_type": "markdown",
      "metadata": {
        "id": "view-in-github",
        "colab_type": "text"
      },
      "source": [
        "<a href=\"https://colab.research.google.com/github/simno16/comm158/blob/main/COMM_Lecture_3.ipynb\" target=\"_parent\"><img src=\"https://colab.research.google.com/assets/colab-badge.svg\" alt=\"Open In Colab\"/></a>"
      ]
    },
    {
      "cell_type": "code",
      "execution_count": null,
      "metadata": {
        "colab": {
          "base_uri": "https://localhost:8080/"
        },
        "id": "JHlQ16TGsRpV",
        "outputId": "0d6a6ed5-b181-4236-a10f-672a268576ae"
      },
      "outputs": [
        {
          "output_type": "stream",
          "name": "stdout",
          "text": [
            "['.config', 'drive', 'sample_data']\n",
            "/content\n"
          ]
        }
      ],
      "source": [
        "import os\n",
        "cwd=os.getcwd()\n",
        "files=os.listdir(cwd)\n",
        "print(files)\n",
        "print(cwd)"
      ]
    },
    {
      "cell_type": "code",
      "source": [
        "from google.colab import drive\n",
        "drive.mount('/content/drive')"
      ],
      "metadata": {
        "colab": {
          "base_uri": "https://localhost:8080/"
        },
        "id": "ZsMTLb2PuyJ8",
        "outputId": "9b6becba-a153-4e66-a7cf-12fa43b5a8b5"
      },
      "execution_count": null,
      "outputs": [
        {
          "output_type": "stream",
          "name": "stdout",
          "text": [
            "Mounted at /content/drive\n"
          ]
        }
      ]
    },
    {
      "cell_type": "code",
      "source": [
        "import os\n",
        "root=\"/content\"\n",
        "projectDir=os.path.join(root, \"drive\", \"MyDrive\", \"comm158\", \"project1_StringManipulation\")\n",
        "print(projectDir)"
      ],
      "metadata": {
        "colab": {
          "base_uri": "https://localhost:8080/"
        },
        "id": "UfRJJHcKx-d3",
        "outputId": "41d40fff-cba5-4658-8814-a85b91b08577"
      },
      "execution_count": null,
      "outputs": [
        {
          "output_type": "stream",
          "name": "stdout",
          "text": [
            "/content/drive/MyDrive/comm158/project1_StringManipulation\n"
          ]
        }
      ]
    },
    {
      "cell_type": "code",
      "metadata": {
        "colab": {
          "base_uri": "https://localhost:8080/"
        },
        "id": "7b9460a1",
        "outputId": "610c43e9-bc7a-4001-b2c8-d22a941bdd41"
      },
      "source": [
        "import os\n",
        "\n",
        "projectDir = \"/content/drive/MyDrive/comm158/project1_StringManipulation\"\n",
        "\n",
        "# Check if the path exists and remove it if it does\n",
        "if os.path.exists(projectDir):\n",
        "    if os.path.isdir(projectDir):\n",
        "        os.rmdir(projectDir) # Use rmdir for empty directories\n",
        "        print(f\"Removed existing directory at: {projectDir}\")\n",
        "    elif os.path.isfile(projectDir):\n",
        "        os.remove(projectDir) # Use remove for files\n",
        "        print(f\"Removed existing file at: {projectDir}\")\n",
        "    else:\n",
        "        # Handle other types of file system objects if necessary\n",
        "        print(f\"Existing item at {projectDir} is not a file or directory. Please remove it manually if needed.\")\n",
        "\n",
        "# Now create the directory\n",
        "try:\n",
        "    os.makedirs(projectDir)\n",
        "    print(f\"Project directory created at: {projectDir}\")\n",
        "except FileExistsError:\n",
        "    print(f\"Project directory already exists at: {projectDir}\")"
      ],
      "execution_count": null,
      "outputs": [
        {
          "output_type": "stream",
          "name": "stdout",
          "text": [
            "Project directory created at: /content/drive/MyDrive/comm158/project1_StringManipulation\n"
          ]
        }
      ]
    },
    {
      "cell_type": "code",
      "source": [
        "import os\n",
        "root=\"/content\"\n",
        "courseDir=os.path.join(root, \"drive\", \"MyDrive\", \"comm158\")\n",
        "projectName=\"project1_StringManipulation\"\n",
        "projectDir=os.path.join(courseDir, projectName)\n",
        "print(projectDir)\n",
        "isCourseDirExist=os.path.isdir(courseDir)\n",
        "print(isCourseDirExist)\n",
        "if isCourseDirExist:\n",
        "  print(\"course directory already exists at:\"+courseDir)\n",
        "else:\n",
        "  os.mkdir(courseDir)\n",
        "  print(\"course directory created at\"+courseDir)"
      ],
      "metadata": {
        "colab": {
          "base_uri": "https://localhost:8080/"
        },
        "id": "cKi5I1xF0vJT",
        "outputId": "beb0947a-8e2c-48f7-fed7-6b9e79322735"
      },
      "execution_count": null,
      "outputs": [
        {
          "output_type": "stream",
          "name": "stdout",
          "text": [
            "/content/drive/MyDrive/comm158/project1_StringManipulation\n",
            "True\n",
            "course directory already exists at:/content/drive/MyDrive/comm158\n"
          ]
        }
      ]
    },
    {
      "cell_type": "code",
      "source": [
        "isProjectDirExist=os.path.isdir(projectDir)\n",
        "print(isProjectDirExist)\n",
        "if isProjectDirExist:\n",
        "  print(f\"project directory already exists at: {projectDir}\")\n",
        "else:\n",
        "  os.mkdir(projectDir)\n",
        "  print(f\"project directory created at: {projectDir}\")"
      ],
      "metadata": {
        "colab": {
          "base_uri": "https://localhost:8080/"
        },
        "id": "JQFSaPcg4hUn",
        "outputId": "9e901c87-78b4-4143-d30b-a4c503af4075"
      },
      "execution_count": null,
      "outputs": [
        {
          "output_type": "stream",
          "name": "stdout",
          "text": [
            "True\n",
            "project directory already exists at: /content/drive/MyDrive/comm158/project1_StringManipulation\n"
          ]
        }
      ]
    },
    {
      "cell_type": "code",
      "source": [
        "import os\n",
        "\n",
        "if os.path.isdir(projectDir):\n",
        "  os.chdir(projectDir)\n",
        "  print(os.getcwd())\n",
        "else:\n",
        "  print(f\"Error: {projectDir} is not a directory.\")"
      ],
      "metadata": {
        "colab": {
          "base_uri": "https://localhost:8080/"
        },
        "id": "SmqiKC6q5TLd",
        "outputId": "17b79c98-06db-4f16-bf60-1bf0062b7bbb"
      },
      "execution_count": null,
      "outputs": [
        {
          "output_type": "stream",
          "name": "stdout",
          "text": [
            "/content/drive/MyDrive/comm158/project1_StringManipulation\n"
          ]
        }
      ]
    },
    {
      "cell_type": "code",
      "source": [
        "import os\n",
        "\n",
        "resultDir=os.path.join(projectDir, \"results\")\n",
        "print(resultDir)\n",
        "\n",
        "# Check if the projectDir is a directory before attempting to create resultDir\n",
        "if os.path.isdir(projectDir):\n",
        "  if not os.path.isdir(resultDir):\n",
        "    os.mkdir(resultDir)\n",
        "    print(f\"result directory created at: {resultDir}\")\n",
        "  else:\n",
        "    print(f\"result directory already exists at: {resultDir}\")\n",
        "else:\n",
        "  print(f\"Error: The parent directory {projectDir} is not a valid directory.\")"
      ],
      "metadata": {
        "colab": {
          "base_uri": "https://localhost:8080/"
        },
        "id": "cxdghFLU5y7_",
        "outputId": "17652cac-1b7e-4001-8c72-1c8eb35f7459"
      },
      "execution_count": null,
      "outputs": [
        {
          "output_type": "stream",
          "name": "stdout",
          "text": [
            "/content/drive/MyDrive/comm158/project1_StringManipulation/results\n",
            "result directory created at: /content/drive/MyDrive/comm158/project1_StringManipulation/results\n"
          ]
        }
      ]
    },
    {
      "cell_type": "code",
      "source": [
        "dataDir=os.path.join(projectDir, \"data\")\n",
        "print(dataDir)\n",
        "if not os.path.isdir(dataDir):\n",
        "  os.mkdir(dataDir)\n",
        "  print(f\"data directory created at: {dataDir}\")\n",
        "else:\n",
        "  print(f\"data directory already exists at: {dataDir}\")\n",
        "os.listdir()"
      ],
      "metadata": {
        "colab": {
          "base_uri": "https://localhost:8080/"
        },
        "id": "6GCoiwV062YU",
        "outputId": "b0571f02-29d9-42b7-a1a0-63b01d9e99b5"
      },
      "execution_count": null,
      "outputs": [
        {
          "output_type": "stream",
          "name": "stdout",
          "text": [
            "/content/drive/MyDrive/comm158/project1_StringManipulation/data\n",
            "data directory already exists at: /content/drive/MyDrive/comm158/project1_StringManipulation/data\n"
          ]
        },
        {
          "output_type": "execute_result",
          "data": {
            "text/plain": [
              "['results', 'data']"
            ]
          },
          "metadata": {},
          "execution_count": 37
        }
      ]
    }
  ]
}